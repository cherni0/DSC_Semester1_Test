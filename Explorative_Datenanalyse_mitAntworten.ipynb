{
 "cells": [
  {
   "cell_type": "markdown",
   "metadata": {},
   "source": [
    "# Explorative Datenanalyse in Python\n",
    "Explorative Datenanalyse (auf Englisch *Exploratory data analysis*, abgekürzt *EDA*) steht oft am Anfang einer Datenanalyse. Es geht darum, die Daten zu verstehen, zu visualisieren, und so erste Hypothesen (Vermutungen) für Zusammenhänge zu formulieren. Diese Hypothesen werden als Grundlage für die weitere Analyse verwendet.\n",
    "\n",
    "Wir werden die explorative Datenanalyse am Beispiel von Auto-Daten kennenlernen. Wir wollen herausfinden, ob wir Zusammehänge zwischen den Attributen von Autos aus dem Datensatz herauslesen können.\n",
    "\n",
    "Dieses Notebook folgt in vielen Teilen dem öffentlichen Notebook https://github.com/Tanu-N-Prabhu/Python/blob/master/Exploratory%20Data%20Analysis/%20Exploratory_data_Analysis_1.ipynb; die Daten stammen von hier: https://www.kaggle.com/CooperUnion/cardataset"
   ]
  },
  {
   "cell_type": "markdown",
   "metadata": {},
   "source": [
    "## 0. Vorbereitung: Import der benötigten Python-Libraries \n",
    "Libraries enthalten Funktionalitäten, die über den Standard von Python herausgehen, und die wir für unsere Arbeit verwenden können. \n",
    "\n",
    "`pandas` und `numpy` enthalten häufig verwendete Datentypen (z.B. *data frames*), `seaborn` und `matplotlib` sind populäre libraries zur Datenvisualisierung. Wir werden diese Libraries häufig verwenden."
   ]
  },
  {
   "cell_type": "code",
   "execution_count": 1,
   "metadata": {},
   "outputs": [],
   "source": [
    "import pandas as pd\n",
    "import numpy as np\n",
    "import seaborn as sns                       #visualisation\n",
    "import matplotlib.pyplot as plt             #visualisation\n",
    "%matplotlib inline     \n",
    "sns.set(color_codes=True)"
   ]
  },
  {
   "cell_type": "markdown",
   "metadata": {},
   "source": [
    "Die einzelnen Code-Abschnitte werden bei jedem Durchlauf nummeriert in der Reihenfolge, wie sie ausgefüht haben. Wenn Sie das Notebook so wie es ist ausführen, wird dieser Teil als `In [1]` bezeichnet. Der Teil oben gibt normalerweise keinen Output. Wenn Sie eine Ausgabe bekommen, so wird sie als `Out [1]` bezeichnet.\n",
    "\n",
    "**Bitte beachten Sie**: Ein Output `Out [1]` aus einem `import`-Statement deutet wahrscheinlich darauf hin, dass mindestens eine der importierten Libraries nicht verfügbar ist. Bitte installieren Sie diese Libraries gemäss der separaten Anleitung."
   ]
  },
  {
   "cell_type": "markdown",
   "metadata": {},
   "source": [
    "## 1. Laden der Daten\n",
    "Als erstes müssen wir die Daten laden. Um einen Eindruck der Daten zu bekommen, sollten wir diese zuerst in einem einfachen Text-Editor öffnen, um beispielsweise zu sehen, wie die Daten im \"Originalzustand\" zu sehen: welche Werte gibt es? In welchem Format liegen sie vor? Wie sind die Werte verschiedener Spalten getrennt?"
   ]
  },
  {
   "cell_type": "markdown",
   "metadata": {},
   "source": [
    "Die Daten für diese exporative Datenanalyse liegen in der Datei `car_data.csv`. Am besten legen Sie die Datei im gleichen Verzeichnis ab wie dieses jupyter notebook (andernfalls müssen Sie den Dateipfad anpassen). Die Endung `.csv` steht für comma-separated value (kommagetrennte Werte): Die Werte verschiedener Spalten sind durch ein Komma getrennt, und jede Zeile in der Datei entspricht einem Objekt (also bei uns: einem Auto). "
   ]
  },
  {
   "cell_type": "code",
   "execution_count": 2,
   "metadata": {},
   "outputs": [],
   "source": [
    "car_df = pd.read_csv(\"car_data.csv\")"
   ]
  },
  {
   "cell_type": "markdown",
   "metadata": {},
   "source": [
    "Wir haben hier die Funktion `read_csv(...)` aus der Library `pandas` verwendet. Diese Funktion braucht den Namen einer Datei (hier eben `car_data.csv`) und liest diesen ein. Die Schreibweise `pd.read_csv` bedeutet, dass hier die Funktion `read_csv` aus der Library `pd` verwendet werden soll. Im Import-Statement weiter oben hatten wir mit der Anweisung `import pandas as pd` festgelegt, dass `pd` als Parallelbezeichnung (*Alias*) für `pandas` verwendet werden soll.\n",
    "\n",
    "Der Wert wird danach der Variable `car_df` zugewiesen. Diese Variable hat den Typ *data frame*. Ein data frame ist eine übliche Datenstruktur für data science: jede Spalte entspricht einer Messung (also einem Auto), und jede Spalte beschreibt eine Eigenschaft eines Objektes. Mit der Funktion `car_df.info()` können wir einige Informationen über die Daten erhalten, die wir soeben geladen haben:"
   ]
  },
  {
   "cell_type": "code",
   "execution_count": 3,
   "metadata": {},
   "outputs": [
    {
     "name": "stdout",
     "output_type": "stream",
     "text": [
      "<class 'pandas.core.frame.DataFrame'>\n",
      "RangeIndex: 11914 entries, 0 to 11913\n",
      "Data columns (total 16 columns):\n",
      " #   Column             Non-Null Count  Dtype  \n",
      "---  ------             --------------  -----  \n",
      " 0   Make               11914 non-null  object \n",
      " 1   Model              11914 non-null  object \n",
      " 2   Year               11914 non-null  int64  \n",
      " 3   Engine Fuel Type   11911 non-null  object \n",
      " 4   Engine HP          11845 non-null  float64\n",
      " 5   Engine Cylinders   11884 non-null  float64\n",
      " 6   Transmission Type  11914 non-null  object \n",
      " 7   Driven_Wheels      11914 non-null  object \n",
      " 8   Number of Doors    11908 non-null  float64\n",
      " 9   Market Category    8172 non-null   object \n",
      " 10  Vehicle Size       11914 non-null  object \n",
      " 11  Vehicle Style      11914 non-null  object \n",
      " 12  highway MPG        11914 non-null  int64  \n",
      " 13  city mpg           11914 non-null  int64  \n",
      " 14  Popularity         11914 non-null  int64  \n",
      " 15  MSRP               11914 non-null  int64  \n",
      "dtypes: float64(3), int64(5), object(8)\n",
      "memory usage: 1.5+ MB\n"
     ]
    }
   ],
   "source": [
    "car_df.info()"
   ]
  },
  {
   "cell_type": "markdown",
   "metadata": {},
   "source": [
    "***Frage***: Welche Informationen erhalten Sie hier? Was bedeuten die Datentypen (`Dtype`)?"
   ]
  },
  {
   "cell_type": "markdown",
   "metadata": {},
   "source": [
    "***==> Antwort***: Es kommen folgende Datentype vor: `int64`, `float64` und `object`.\n",
    "* `int64` sind ganzzahlige Werte, die im Speicherplatz 64 bit (oder 8 Bytes) einnehmen. Der Wertebereich liegt -9223372036854775808 bis 9223372036854775807\n",
    "* `float64` sind Gleitkommazahlen, im Wertebereich +-1.798e+308\n",
    "* `object` sind beliebige Objekte in Python. Beim Einlesen der Daten hat Python die Werte keinem bestimmten Objekttyp zugewiesen. Wir müssten eine *Konvertierung* machen, wenn wir hier z.B. Strings haben möchten.\n",
    "\n",
    "**<==**"
   ]
  },
  {
   "cell_type": "markdown",
   "metadata": {},
   "source": [
    "Als nächstes wollen wir einen ersten Blick auf die Daten werfen - mit `df.head(5)` bekommen wir die ersten 5 Zeilen:"
   ]
  },
  {
   "cell_type": "code",
   "execution_count": 4,
   "metadata": {},
   "outputs": [
    {
     "data": {
      "text/html": [
       "<div>\n",
       "<style scoped>\n",
       "    .dataframe tbody tr th:only-of-type {\n",
       "        vertical-align: middle;\n",
       "    }\n",
       "\n",
       "    .dataframe tbody tr th {\n",
       "        vertical-align: top;\n",
       "    }\n",
       "\n",
       "    .dataframe thead th {\n",
       "        text-align: right;\n",
       "    }\n",
       "</style>\n",
       "<table border=\"1\" class=\"dataframe\">\n",
       "  <thead>\n",
       "    <tr style=\"text-align: right;\">\n",
       "      <th></th>\n",
       "      <th>Make</th>\n",
       "      <th>Model</th>\n",
       "      <th>Year</th>\n",
       "      <th>Engine Fuel Type</th>\n",
       "      <th>Engine HP</th>\n",
       "      <th>Engine Cylinders</th>\n",
       "      <th>Transmission Type</th>\n",
       "      <th>Driven_Wheels</th>\n",
       "      <th>Number of Doors</th>\n",
       "      <th>Market Category</th>\n",
       "      <th>Vehicle Size</th>\n",
       "      <th>Vehicle Style</th>\n",
       "      <th>highway MPG</th>\n",
       "      <th>city mpg</th>\n",
       "      <th>Popularity</th>\n",
       "      <th>MSRP</th>\n",
       "    </tr>\n",
       "  </thead>\n",
       "  <tbody>\n",
       "    <tr>\n",
       "      <th>0</th>\n",
       "      <td>BMW</td>\n",
       "      <td>1 Series M</td>\n",
       "      <td>2011</td>\n",
       "      <td>premium unleaded (required)</td>\n",
       "      <td>335.0</td>\n",
       "      <td>6.0</td>\n",
       "      <td>MANUAL</td>\n",
       "      <td>rear wheel drive</td>\n",
       "      <td>2.0</td>\n",
       "      <td>Factory Tuner,Luxury,High-Performance</td>\n",
       "      <td>Compact</td>\n",
       "      <td>Coupe</td>\n",
       "      <td>26</td>\n",
       "      <td>19</td>\n",
       "      <td>3916</td>\n",
       "      <td>46135</td>\n",
       "    </tr>\n",
       "    <tr>\n",
       "      <th>1</th>\n",
       "      <td>BMW</td>\n",
       "      <td>1 Series</td>\n",
       "      <td>2011</td>\n",
       "      <td>premium unleaded (required)</td>\n",
       "      <td>300.0</td>\n",
       "      <td>6.0</td>\n",
       "      <td>MANUAL</td>\n",
       "      <td>rear wheel drive</td>\n",
       "      <td>2.0</td>\n",
       "      <td>Luxury,Performance</td>\n",
       "      <td>Compact</td>\n",
       "      <td>Convertible</td>\n",
       "      <td>28</td>\n",
       "      <td>19</td>\n",
       "      <td>3916</td>\n",
       "      <td>40650</td>\n",
       "    </tr>\n",
       "    <tr>\n",
       "      <th>2</th>\n",
       "      <td>BMW</td>\n",
       "      <td>1 Series</td>\n",
       "      <td>2011</td>\n",
       "      <td>premium unleaded (required)</td>\n",
       "      <td>300.0</td>\n",
       "      <td>6.0</td>\n",
       "      <td>MANUAL</td>\n",
       "      <td>rear wheel drive</td>\n",
       "      <td>2.0</td>\n",
       "      <td>Luxury,High-Performance</td>\n",
       "      <td>Compact</td>\n",
       "      <td>Coupe</td>\n",
       "      <td>28</td>\n",
       "      <td>20</td>\n",
       "      <td>3916</td>\n",
       "      <td>36350</td>\n",
       "    </tr>\n",
       "    <tr>\n",
       "      <th>3</th>\n",
       "      <td>BMW</td>\n",
       "      <td>1 Series</td>\n",
       "      <td>2011</td>\n",
       "      <td>premium unleaded (required)</td>\n",
       "      <td>230.0</td>\n",
       "      <td>6.0</td>\n",
       "      <td>MANUAL</td>\n",
       "      <td>rear wheel drive</td>\n",
       "      <td>2.0</td>\n",
       "      <td>Luxury,Performance</td>\n",
       "      <td>Compact</td>\n",
       "      <td>Coupe</td>\n",
       "      <td>28</td>\n",
       "      <td>18</td>\n",
       "      <td>3916</td>\n",
       "      <td>29450</td>\n",
       "    </tr>\n",
       "    <tr>\n",
       "      <th>4</th>\n",
       "      <td>BMW</td>\n",
       "      <td>1 Series</td>\n",
       "      <td>2011</td>\n",
       "      <td>premium unleaded (required)</td>\n",
       "      <td>230.0</td>\n",
       "      <td>6.0</td>\n",
       "      <td>MANUAL</td>\n",
       "      <td>rear wheel drive</td>\n",
       "      <td>2.0</td>\n",
       "      <td>Luxury</td>\n",
       "      <td>Compact</td>\n",
       "      <td>Convertible</td>\n",
       "      <td>28</td>\n",
       "      <td>18</td>\n",
       "      <td>3916</td>\n",
       "      <td>34500</td>\n",
       "    </tr>\n",
       "  </tbody>\n",
       "</table>\n",
       "</div>"
      ],
      "text/plain": [
       "  Make       Model  Year             Engine Fuel Type  Engine HP  \\\n",
       "0  BMW  1 Series M  2011  premium unleaded (required)      335.0   \n",
       "1  BMW    1 Series  2011  premium unleaded (required)      300.0   \n",
       "2  BMW    1 Series  2011  premium unleaded (required)      300.0   \n",
       "3  BMW    1 Series  2011  premium unleaded (required)      230.0   \n",
       "4  BMW    1 Series  2011  premium unleaded (required)      230.0   \n",
       "\n",
       "   Engine Cylinders Transmission Type     Driven_Wheels  Number of Doors  \\\n",
       "0               6.0            MANUAL  rear wheel drive              2.0   \n",
       "1               6.0            MANUAL  rear wheel drive              2.0   \n",
       "2               6.0            MANUAL  rear wheel drive              2.0   \n",
       "3               6.0            MANUAL  rear wheel drive              2.0   \n",
       "4               6.0            MANUAL  rear wheel drive              2.0   \n",
       "\n",
       "                         Market Category Vehicle Size Vehicle Style  \\\n",
       "0  Factory Tuner,Luxury,High-Performance      Compact         Coupe   \n",
       "1                     Luxury,Performance      Compact   Convertible   \n",
       "2                Luxury,High-Performance      Compact         Coupe   \n",
       "3                     Luxury,Performance      Compact         Coupe   \n",
       "4                                 Luxury      Compact   Convertible   \n",
       "\n",
       "   highway MPG  city mpg  Popularity   MSRP  \n",
       "0           26        19        3916  46135  \n",
       "1           28        19        3916  40650  \n",
       "2           28        20        3916  36350  \n",
       "3           28        18        3916  29450  \n",
       "4           28        18        3916  34500  "
      ]
     },
     "execution_count": 4,
     "metadata": {},
     "output_type": "execute_result"
    }
   ],
   "source": [
    "# Anzeige der ersten 5 Zeilen:\n",
    "car_df.head(5)"
   ]
  },
  {
   "cell_type": "code",
   "execution_count": 5,
   "metadata": {
    "scrolled": false
   },
   "outputs": [
    {
     "data": {
      "text/html": [
       "<div>\n",
       "<style scoped>\n",
       "    .dataframe tbody tr th:only-of-type {\n",
       "        vertical-align: middle;\n",
       "    }\n",
       "\n",
       "    .dataframe tbody tr th {\n",
       "        vertical-align: top;\n",
       "    }\n",
       "\n",
       "    .dataframe thead th {\n",
       "        text-align: right;\n",
       "    }\n",
       "</style>\n",
       "<table border=\"1\" class=\"dataframe\">\n",
       "  <thead>\n",
       "    <tr style=\"text-align: right;\">\n",
       "      <th></th>\n",
       "      <th>Make</th>\n",
       "      <th>Model</th>\n",
       "      <th>Year</th>\n",
       "      <th>Engine Fuel Type</th>\n",
       "      <th>Engine HP</th>\n",
       "      <th>Engine Cylinders</th>\n",
       "      <th>Transmission Type</th>\n",
       "      <th>Driven_Wheels</th>\n",
       "      <th>Number of Doors</th>\n",
       "      <th>Market Category</th>\n",
       "      <th>Vehicle Size</th>\n",
       "      <th>Vehicle Style</th>\n",
       "      <th>highway MPG</th>\n",
       "      <th>city mpg</th>\n",
       "      <th>Popularity</th>\n",
       "      <th>MSRP</th>\n",
       "    </tr>\n",
       "  </thead>\n",
       "  <tbody>\n",
       "    <tr>\n",
       "      <th>11909</th>\n",
       "      <td>Acura</td>\n",
       "      <td>ZDX</td>\n",
       "      <td>2012</td>\n",
       "      <td>premium unleaded (required)</td>\n",
       "      <td>300.0</td>\n",
       "      <td>6.0</td>\n",
       "      <td>AUTOMATIC</td>\n",
       "      <td>all wheel drive</td>\n",
       "      <td>4.0</td>\n",
       "      <td>Crossover,Hatchback,Luxury</td>\n",
       "      <td>Midsize</td>\n",
       "      <td>4dr Hatchback</td>\n",
       "      <td>23</td>\n",
       "      <td>16</td>\n",
       "      <td>204</td>\n",
       "      <td>46120</td>\n",
       "    </tr>\n",
       "    <tr>\n",
       "      <th>11910</th>\n",
       "      <td>Acura</td>\n",
       "      <td>ZDX</td>\n",
       "      <td>2012</td>\n",
       "      <td>premium unleaded (required)</td>\n",
       "      <td>300.0</td>\n",
       "      <td>6.0</td>\n",
       "      <td>AUTOMATIC</td>\n",
       "      <td>all wheel drive</td>\n",
       "      <td>4.0</td>\n",
       "      <td>Crossover,Hatchback,Luxury</td>\n",
       "      <td>Midsize</td>\n",
       "      <td>4dr Hatchback</td>\n",
       "      <td>23</td>\n",
       "      <td>16</td>\n",
       "      <td>204</td>\n",
       "      <td>56670</td>\n",
       "    </tr>\n",
       "    <tr>\n",
       "      <th>11911</th>\n",
       "      <td>Acura</td>\n",
       "      <td>ZDX</td>\n",
       "      <td>2012</td>\n",
       "      <td>premium unleaded (required)</td>\n",
       "      <td>300.0</td>\n",
       "      <td>6.0</td>\n",
       "      <td>AUTOMATIC</td>\n",
       "      <td>all wheel drive</td>\n",
       "      <td>4.0</td>\n",
       "      <td>Crossover,Hatchback,Luxury</td>\n",
       "      <td>Midsize</td>\n",
       "      <td>4dr Hatchback</td>\n",
       "      <td>23</td>\n",
       "      <td>16</td>\n",
       "      <td>204</td>\n",
       "      <td>50620</td>\n",
       "    </tr>\n",
       "    <tr>\n",
       "      <th>11912</th>\n",
       "      <td>Acura</td>\n",
       "      <td>ZDX</td>\n",
       "      <td>2013</td>\n",
       "      <td>premium unleaded (recommended)</td>\n",
       "      <td>300.0</td>\n",
       "      <td>6.0</td>\n",
       "      <td>AUTOMATIC</td>\n",
       "      <td>all wheel drive</td>\n",
       "      <td>4.0</td>\n",
       "      <td>Crossover,Hatchback,Luxury</td>\n",
       "      <td>Midsize</td>\n",
       "      <td>4dr Hatchback</td>\n",
       "      <td>23</td>\n",
       "      <td>16</td>\n",
       "      <td>204</td>\n",
       "      <td>50920</td>\n",
       "    </tr>\n",
       "    <tr>\n",
       "      <th>11913</th>\n",
       "      <td>Lincoln</td>\n",
       "      <td>Zephyr</td>\n",
       "      <td>2006</td>\n",
       "      <td>regular unleaded</td>\n",
       "      <td>221.0</td>\n",
       "      <td>6.0</td>\n",
       "      <td>AUTOMATIC</td>\n",
       "      <td>front wheel drive</td>\n",
       "      <td>4.0</td>\n",
       "      <td>Luxury</td>\n",
       "      <td>Midsize</td>\n",
       "      <td>Sedan</td>\n",
       "      <td>26</td>\n",
       "      <td>17</td>\n",
       "      <td>61</td>\n",
       "      <td>28995</td>\n",
       "    </tr>\n",
       "  </tbody>\n",
       "</table>\n",
       "</div>"
      ],
      "text/plain": [
       "          Make   Model  Year                Engine Fuel Type  Engine HP  \\\n",
       "11909    Acura     ZDX  2012     premium unleaded (required)      300.0   \n",
       "11910    Acura     ZDX  2012     premium unleaded (required)      300.0   \n",
       "11911    Acura     ZDX  2012     premium unleaded (required)      300.0   \n",
       "11912    Acura     ZDX  2013  premium unleaded (recommended)      300.0   \n",
       "11913  Lincoln  Zephyr  2006                regular unleaded      221.0   \n",
       "\n",
       "       Engine Cylinders Transmission Type      Driven_Wheels  Number of Doors  \\\n",
       "11909               6.0         AUTOMATIC    all wheel drive              4.0   \n",
       "11910               6.0         AUTOMATIC    all wheel drive              4.0   \n",
       "11911               6.0         AUTOMATIC    all wheel drive              4.0   \n",
       "11912               6.0         AUTOMATIC    all wheel drive              4.0   \n",
       "11913               6.0         AUTOMATIC  front wheel drive              4.0   \n",
       "\n",
       "                  Market Category Vehicle Size  Vehicle Style  highway MPG  \\\n",
       "11909  Crossover,Hatchback,Luxury      Midsize  4dr Hatchback           23   \n",
       "11910  Crossover,Hatchback,Luxury      Midsize  4dr Hatchback           23   \n",
       "11911  Crossover,Hatchback,Luxury      Midsize  4dr Hatchback           23   \n",
       "11912  Crossover,Hatchback,Luxury      Midsize  4dr Hatchback           23   \n",
       "11913                      Luxury      Midsize          Sedan           26   \n",
       "\n",
       "       city mpg  Popularity   MSRP  \n",
       "11909        16         204  46120  \n",
       "11910        16         204  56670  \n",
       "11911        16         204  50620  \n",
       "11912        16         204  50920  \n",
       "11913        17          61  28995  "
      ]
     },
     "execution_count": 5,
     "metadata": {},
     "output_type": "execute_result"
    }
   ],
   "source": [
    "# letzte 5 Zeilen: \n",
    "car_df.tail(5)"
   ]
  },
  {
   "cell_type": "markdown",
   "metadata": {},
   "source": [
    "Die einzelnen Attribute (Spalten) können wir direkt über ihre Namen (in der Darstellung oben fett gedruckt) aufrufen und bekommen so beispielsweise eine Liste der Marke aller Fahrzeuge. Die Spaltennamen waren in der Originaldatei als erste Zeile angegeben und wurden von pandas automatisch mit geladen und übernommen."
   ]
  },
  {
   "cell_type": "code",
   "execution_count": 6,
   "metadata": {},
   "outputs": [
    {
     "data": {
      "text/plain": [
       "0            BMW\n",
       "1            BMW\n",
       "2            BMW\n",
       "3            BMW\n",
       "4            BMW\n",
       "          ...   \n",
       "11909      Acura\n",
       "11910      Acura\n",
       "11911      Acura\n",
       "11912      Acura\n",
       "11913    Lincoln\n",
       "Name: Make, Length: 11914, dtype: object"
      ]
     },
     "execution_count": 6,
     "metadata": {},
     "output_type": "execute_result"
    }
   ],
   "source": [
    "car_df['Make']"
   ]
  },
  {
   "cell_type": "markdown",
   "metadata": {},
   "source": [
    "## 2. Entfernen irrelevanter Daten\n",
    "Wir werden in der Analyse nicht alle Attribute benötigen, und deshalb hier einige weglassen. So wird die Analyse übersichtlicher.\n",
    "\n",
    "***Beachten Sie***: Bei grossen Datenmengen müssen tendenziell mehr Attribute weggelassen werden, oder wir arbeiten für die explorative Datenanalyse nur auf einem Teil der Daten (berücksichtigen also z.B. nicht alle Autos). Gleichzeitig lohnt es sich, Attribute nicht zu früh wegzulassen - wir arbeiten hier ja eben explorativ und wissen eben noch nicht, welche Attribute wir vielleicht später doch noch brauchen."
   ]
  },
  {
   "cell_type": "code",
   "execution_count": 7,
   "metadata": {},
   "outputs": [
    {
     "data": {
      "text/html": [
       "<div>\n",
       "<style scoped>\n",
       "    .dataframe tbody tr th:only-of-type {\n",
       "        vertical-align: middle;\n",
       "    }\n",
       "\n",
       "    .dataframe tbody tr th {\n",
       "        vertical-align: top;\n",
       "    }\n",
       "\n",
       "    .dataframe thead th {\n",
       "        text-align: right;\n",
       "    }\n",
       "</style>\n",
       "<table border=\"1\" class=\"dataframe\">\n",
       "  <thead>\n",
       "    <tr style=\"text-align: right;\">\n",
       "      <th></th>\n",
       "      <th>Make</th>\n",
       "      <th>Model</th>\n",
       "      <th>Year</th>\n",
       "      <th>Engine Fuel Type</th>\n",
       "      <th>Engine HP</th>\n",
       "      <th>Engine Cylinders</th>\n",
       "      <th>Transmission Type</th>\n",
       "      <th>Driven_Wheels</th>\n",
       "      <th>Number of Doors</th>\n",
       "      <th>highway MPG</th>\n",
       "      <th>city mpg</th>\n",
       "      <th>MSRP</th>\n",
       "    </tr>\n",
       "  </thead>\n",
       "  <tbody>\n",
       "    <tr>\n",
       "      <th>0</th>\n",
       "      <td>BMW</td>\n",
       "      <td>1 Series M</td>\n",
       "      <td>2011</td>\n",
       "      <td>premium unleaded (required)</td>\n",
       "      <td>335.0</td>\n",
       "      <td>6.0</td>\n",
       "      <td>MANUAL</td>\n",
       "      <td>rear wheel drive</td>\n",
       "      <td>2.0</td>\n",
       "      <td>26</td>\n",
       "      <td>19</td>\n",
       "      <td>46135</td>\n",
       "    </tr>\n",
       "    <tr>\n",
       "      <th>1</th>\n",
       "      <td>BMW</td>\n",
       "      <td>1 Series</td>\n",
       "      <td>2011</td>\n",
       "      <td>premium unleaded (required)</td>\n",
       "      <td>300.0</td>\n",
       "      <td>6.0</td>\n",
       "      <td>MANUAL</td>\n",
       "      <td>rear wheel drive</td>\n",
       "      <td>2.0</td>\n",
       "      <td>28</td>\n",
       "      <td>19</td>\n",
       "      <td>40650</td>\n",
       "    </tr>\n",
       "    <tr>\n",
       "      <th>2</th>\n",
       "      <td>BMW</td>\n",
       "      <td>1 Series</td>\n",
       "      <td>2011</td>\n",
       "      <td>premium unleaded (required)</td>\n",
       "      <td>300.0</td>\n",
       "      <td>6.0</td>\n",
       "      <td>MANUAL</td>\n",
       "      <td>rear wheel drive</td>\n",
       "      <td>2.0</td>\n",
       "      <td>28</td>\n",
       "      <td>20</td>\n",
       "      <td>36350</td>\n",
       "    </tr>\n",
       "    <tr>\n",
       "      <th>3</th>\n",
       "      <td>BMW</td>\n",
       "      <td>1 Series</td>\n",
       "      <td>2011</td>\n",
       "      <td>premium unleaded (required)</td>\n",
       "      <td>230.0</td>\n",
       "      <td>6.0</td>\n",
       "      <td>MANUAL</td>\n",
       "      <td>rear wheel drive</td>\n",
       "      <td>2.0</td>\n",
       "      <td>28</td>\n",
       "      <td>18</td>\n",
       "      <td>29450</td>\n",
       "    </tr>\n",
       "    <tr>\n",
       "      <th>4</th>\n",
       "      <td>BMW</td>\n",
       "      <td>1 Series</td>\n",
       "      <td>2011</td>\n",
       "      <td>premium unleaded (required)</td>\n",
       "      <td>230.0</td>\n",
       "      <td>6.0</td>\n",
       "      <td>MANUAL</td>\n",
       "      <td>rear wheel drive</td>\n",
       "      <td>2.0</td>\n",
       "      <td>28</td>\n",
       "      <td>18</td>\n",
       "      <td>34500</td>\n",
       "    </tr>\n",
       "  </tbody>\n",
       "</table>\n",
       "</div>"
      ],
      "text/plain": [
       "  Make       Model  Year             Engine Fuel Type  Engine HP  \\\n",
       "0  BMW  1 Series M  2011  premium unleaded (required)      335.0   \n",
       "1  BMW    1 Series  2011  premium unleaded (required)      300.0   \n",
       "2  BMW    1 Series  2011  premium unleaded (required)      300.0   \n",
       "3  BMW    1 Series  2011  premium unleaded (required)      230.0   \n",
       "4  BMW    1 Series  2011  premium unleaded (required)      230.0   \n",
       "\n",
       "   Engine Cylinders Transmission Type     Driven_Wheels  Number of Doors  \\\n",
       "0               6.0            MANUAL  rear wheel drive              2.0   \n",
       "1               6.0            MANUAL  rear wheel drive              2.0   \n",
       "2               6.0            MANUAL  rear wheel drive              2.0   \n",
       "3               6.0            MANUAL  rear wheel drive              2.0   \n",
       "4               6.0            MANUAL  rear wheel drive              2.0   \n",
       "\n",
       "   highway MPG  city mpg   MSRP  \n",
       "0           26        19  46135  \n",
       "1           28        19  40650  \n",
       "2           28        20  36350  \n",
       "3           28        18  29450  \n",
       "4           28        18  34500  "
      ]
     },
     "execution_count": 7,
     "metadata": {},
     "output_type": "execute_result"
    }
   ],
   "source": [
    "car_df = car_df.drop(['Market Category', 'Vehicle Style', 'Popularity', 'Vehicle Size'], axis=1)\n",
    "car_df.head(5)"
   ]
  },
  {
   "cell_type": "code",
   "execution_count": 8,
   "metadata": {},
   "outputs": [
    {
     "data": {
      "text/html": [
       "<div>\n",
       "<style scoped>\n",
       "    .dataframe tbody tr th:only-of-type {\n",
       "        vertical-align: middle;\n",
       "    }\n",
       "\n",
       "    .dataframe tbody tr th {\n",
       "        vertical-align: top;\n",
       "    }\n",
       "\n",
       "    .dataframe thead th {\n",
       "        text-align: right;\n",
       "    }\n",
       "</style>\n",
       "<table border=\"1\" class=\"dataframe\">\n",
       "  <thead>\n",
       "    <tr style=\"text-align: right;\">\n",
       "      <th></th>\n",
       "      <th>Make</th>\n",
       "      <th>Model</th>\n",
       "      <th>Year</th>\n",
       "      <th>Engine Fuel Type</th>\n",
       "      <th>Engine HP</th>\n",
       "      <th>Engine Cylinders</th>\n",
       "      <th>Transmission Type</th>\n",
       "      <th>Driven_Wheels</th>\n",
       "      <th>Number of Doors</th>\n",
       "      <th>highway MPG</th>\n",
       "      <th>city mpg</th>\n",
       "      <th>MSRP</th>\n",
       "    </tr>\n",
       "  </thead>\n",
       "  <tbody>\n",
       "    <tr>\n",
       "      <th>11909</th>\n",
       "      <td>Acura</td>\n",
       "      <td>ZDX</td>\n",
       "      <td>2012</td>\n",
       "      <td>premium unleaded (required)</td>\n",
       "      <td>300.0</td>\n",
       "      <td>6.0</td>\n",
       "      <td>AUTOMATIC</td>\n",
       "      <td>all wheel drive</td>\n",
       "      <td>4.0</td>\n",
       "      <td>23</td>\n",
       "      <td>16</td>\n",
       "      <td>46120</td>\n",
       "    </tr>\n",
       "    <tr>\n",
       "      <th>11910</th>\n",
       "      <td>Acura</td>\n",
       "      <td>ZDX</td>\n",
       "      <td>2012</td>\n",
       "      <td>premium unleaded (required)</td>\n",
       "      <td>300.0</td>\n",
       "      <td>6.0</td>\n",
       "      <td>AUTOMATIC</td>\n",
       "      <td>all wheel drive</td>\n",
       "      <td>4.0</td>\n",
       "      <td>23</td>\n",
       "      <td>16</td>\n",
       "      <td>56670</td>\n",
       "    </tr>\n",
       "    <tr>\n",
       "      <th>11911</th>\n",
       "      <td>Acura</td>\n",
       "      <td>ZDX</td>\n",
       "      <td>2012</td>\n",
       "      <td>premium unleaded (required)</td>\n",
       "      <td>300.0</td>\n",
       "      <td>6.0</td>\n",
       "      <td>AUTOMATIC</td>\n",
       "      <td>all wheel drive</td>\n",
       "      <td>4.0</td>\n",
       "      <td>23</td>\n",
       "      <td>16</td>\n",
       "      <td>50620</td>\n",
       "    </tr>\n",
       "    <tr>\n",
       "      <th>11912</th>\n",
       "      <td>Acura</td>\n",
       "      <td>ZDX</td>\n",
       "      <td>2013</td>\n",
       "      <td>premium unleaded (recommended)</td>\n",
       "      <td>300.0</td>\n",
       "      <td>6.0</td>\n",
       "      <td>AUTOMATIC</td>\n",
       "      <td>all wheel drive</td>\n",
       "      <td>4.0</td>\n",
       "      <td>23</td>\n",
       "      <td>16</td>\n",
       "      <td>50920</td>\n",
       "    </tr>\n",
       "    <tr>\n",
       "      <th>11913</th>\n",
       "      <td>Lincoln</td>\n",
       "      <td>Zephyr</td>\n",
       "      <td>2006</td>\n",
       "      <td>regular unleaded</td>\n",
       "      <td>221.0</td>\n",
       "      <td>6.0</td>\n",
       "      <td>AUTOMATIC</td>\n",
       "      <td>front wheel drive</td>\n",
       "      <td>4.0</td>\n",
       "      <td>26</td>\n",
       "      <td>17</td>\n",
       "      <td>28995</td>\n",
       "    </tr>\n",
       "  </tbody>\n",
       "</table>\n",
       "</div>"
      ],
      "text/plain": [
       "          Make   Model  Year                Engine Fuel Type  Engine HP  \\\n",
       "11909    Acura     ZDX  2012     premium unleaded (required)      300.0   \n",
       "11910    Acura     ZDX  2012     premium unleaded (required)      300.0   \n",
       "11911    Acura     ZDX  2012     premium unleaded (required)      300.0   \n",
       "11912    Acura     ZDX  2013  premium unleaded (recommended)      300.0   \n",
       "11913  Lincoln  Zephyr  2006                regular unleaded      221.0   \n",
       "\n",
       "       Engine Cylinders Transmission Type      Driven_Wheels  Number of Doors  \\\n",
       "11909               6.0         AUTOMATIC    all wheel drive              4.0   \n",
       "11910               6.0         AUTOMATIC    all wheel drive              4.0   \n",
       "11911               6.0         AUTOMATIC    all wheel drive              4.0   \n",
       "11912               6.0         AUTOMATIC    all wheel drive              4.0   \n",
       "11913               6.0         AUTOMATIC  front wheel drive              4.0   \n",
       "\n",
       "       highway MPG  city mpg   MSRP  \n",
       "11909           23        16  46120  \n",
       "11910           23        16  56670  \n",
       "11911           23        16  50620  \n",
       "11912           23        16  50920  \n",
       "11913           26        17  28995  "
      ]
     },
     "execution_count": 8,
     "metadata": {},
     "output_type": "execute_result"
    }
   ],
   "source": [
    "car_df.tail(5)"
   ]
  },
  {
   "cell_type": "markdown",
   "metadata": {},
   "source": [
    "***Frage***: Was fällt Ihnen auf, wenn Sie die Daten anschauen?"
   ]
  },
  {
   "cell_type": "markdown",
   "metadata": {},
   "source": [
    "***==> Antwort***: Viele Autos unterschieden sich nur in einem oder zwei Attributen - so unterscheiden sich die drei obersten Zeilen in der obigen Tabelle nur im Preis (`MSRP`). Wenn wir dieses Attribut entfernen würden, so hätten wir zwei gleiche Einträge - also ein Duplikat. \n",
    "\n",
    "**<==**"
   ]
  },
  {
   "cell_type": "markdown",
   "metadata": {},
   "source": [
    "## 3. Datenbereinigung\n",
    "Die meisten Daten aus der realen Welt müssen bereinigt werden bevor sie für eine Analyse verwendet werden können. Wie wir am Ende von Teil 1 gesehen haben, kommen in diesem Datensatz Duplikate vor (z.B. die dritt- und die viertunterste Zeile)"
   ]
  },
  {
   "cell_type": "code",
   "execution_count": 9,
   "metadata": {},
   "outputs": [
    {
     "data": {
      "text/plain": [
       "(11914, 12)"
      ]
     },
     "execution_count": 9,
     "metadata": {},
     "output_type": "execute_result"
    }
   ],
   "source": [
    "# Grösse des Datensatzes\n",
    "car_df.shape"
   ]
  },
  {
   "cell_type": "markdown",
   "metadata": {},
   "source": [
    "### Entfernung von Duplikaten\n",
    "Duplikate können aus verschiedenen Gründen in unseren Daten kommen, sei es durch mehrfache Messung oder - wie in unserem Fall - durch Entfernen von Attributen, in denen sich die zwei Datensätze unterschieden hatten. Die Bedeutung von Duplikaten hängt auch sehr von der Anwendung ab - bei weitem nicht in jedem Fall müssen Duplikate entfernt werden! "
   ]
  },
  {
   "cell_type": "code",
   "execution_count": 10,
   "metadata": {},
   "outputs": [
    {
     "name": "stdout",
     "output_type": "stream",
     "text": [
      "number of duplicate rows:  (815, 12)\n"
     ]
    }
   ],
   "source": [
    "duplicate_rows_df = car_df[car_df.duplicated()]\n",
    "print(\"number of duplicate rows: \", duplicate_rows_df.shape)"
   ]
  },
  {
   "cell_type": "markdown",
   "metadata": {},
   "source": [
    "Wir interessieren uns hier für die Zusammenhänge zwischen einzelnen Attributen von Autos. Dafür benötigen wir die Duplikate nicht und werden sie deshalb mit der folgenden Anweisung löschen. Beachten Sie die veränderte Grösse des Data Frames (`car_df.shape`)!"
   ]
  },
  {
   "cell_type": "code",
   "execution_count": 11,
   "metadata": {},
   "outputs": [],
   "source": [
    "car_df = car_df.drop_duplicates()"
   ]
  },
  {
   "cell_type": "code",
   "execution_count": 12,
   "metadata": {},
   "outputs": [
    {
     "data": {
      "text/plain": [
       "(11099, 12)"
      ]
     },
     "execution_count": 12,
     "metadata": {},
     "output_type": "execute_result"
    }
   ],
   "source": [
    "car_df.shape"
   ]
  },
  {
   "cell_type": "markdown",
   "metadata": {},
   "source": [
    "### Transformation von Werten\n",
    "In den USA wird der Verbrauch eines Fahrzeuges in MPG angegeben (Miles per Gallon - wie viele Meilen fährt das Fahrzeug mit einer Gallone Treibstoff?). In der Schweiz hingegen sind Verbrauchsangaben pro 100 km üblich. Entsprechend wollen wir die beiden Verbrauchsangaben (in der Stadt und auf der Autobahn / \"ausserorts\") umformen.\n",
    "\n",
    "Wir definieren dazu eine **Funktion** `mpg_to_lpro100km`:"
   ]
  },
  {
   "cell_type": "code",
   "execution_count": 13,
   "metadata": {},
   "outputs": [],
   "source": [
    "def mpg_to_lpro100km(mpg):\n",
    "    # converts miles per gallon to liters per 100 km\n",
    "    return (100 * 3.785411784) / (mpg * 1.609344)"
   ]
  },
  {
   "cell_type": "markdown",
   "metadata": {},
   "source": [
    "Nun wenden wir diese Funktion auf die beiden Attribute (`highway MPG` und `city mpg`) an:"
   ]
  },
  {
   "cell_type": "code",
   "execution_count": 14,
   "metadata": {},
   "outputs": [],
   "source": [
    "car_df['Verbrauch Innerorts'] = mpg_to_lpro100km( car_df['city mpg'])"
   ]
  },
  {
   "cell_type": "markdown",
   "metadata": {},
   "source": [
    "***Aufgabe***: Kopieren Sie den Ausdruck oben um den Verbrauch Ausserorts ebenfalls zu berechnen. Speichern Sie die Angabe im Attribut `Verbrauch Ausserorts`"
   ]
  },
  {
   "cell_type": "markdown",
   "metadata": {},
   "source": [
    "***==> Lösung***:"
   ]
  },
  {
   "cell_type": "code",
   "execution_count": 15,
   "metadata": {},
   "outputs": [],
   "source": [
    "car_df['Verbrauch Ausserorts'] = mpg_to_lpro100km( car_df['highway MPG'])"
   ]
  },
  {
   "cell_type": "markdown",
   "metadata": {},
   "source": [
    "**<==**"
   ]
  },
  {
   "cell_type": "markdown",
   "metadata": {},
   "source": [
    "Die beiden Befehle ergeben keine Ausgabe, das Resultat wird jeweils als neue Spalte im Data Frame abgespeichert. Entsprechend hat unser Data Frame `car_df` jetzt zwei neue Spalten:"
   ]
  },
  {
   "cell_type": "code",
   "execution_count": 16,
   "metadata": {},
   "outputs": [
    {
     "data": {
      "text/html": [
       "<div>\n",
       "<style scoped>\n",
       "    .dataframe tbody tr th:only-of-type {\n",
       "        vertical-align: middle;\n",
       "    }\n",
       "\n",
       "    .dataframe tbody tr th {\n",
       "        vertical-align: top;\n",
       "    }\n",
       "\n",
       "    .dataframe thead th {\n",
       "        text-align: right;\n",
       "    }\n",
       "</style>\n",
       "<table border=\"1\" class=\"dataframe\">\n",
       "  <thead>\n",
       "    <tr style=\"text-align: right;\">\n",
       "      <th></th>\n",
       "      <th>Make</th>\n",
       "      <th>Model</th>\n",
       "      <th>Year</th>\n",
       "      <th>Engine Fuel Type</th>\n",
       "      <th>Engine HP</th>\n",
       "      <th>Engine Cylinders</th>\n",
       "      <th>Transmission Type</th>\n",
       "      <th>Driven_Wheels</th>\n",
       "      <th>Number of Doors</th>\n",
       "      <th>highway MPG</th>\n",
       "      <th>city mpg</th>\n",
       "      <th>MSRP</th>\n",
       "      <th>Verbrauch Innerorts</th>\n",
       "      <th>Verbrauch Ausserorts</th>\n",
       "    </tr>\n",
       "  </thead>\n",
       "  <tbody>\n",
       "    <tr>\n",
       "      <th>0</th>\n",
       "      <td>BMW</td>\n",
       "      <td>1 Series M</td>\n",
       "      <td>2011</td>\n",
       "      <td>premium unleaded (required)</td>\n",
       "      <td>335.0</td>\n",
       "      <td>6.0</td>\n",
       "      <td>MANUAL</td>\n",
       "      <td>rear wheel drive</td>\n",
       "      <td>2.0</td>\n",
       "      <td>26</td>\n",
       "      <td>19</td>\n",
       "      <td>46135</td>\n",
       "      <td>12.379715</td>\n",
       "      <td>9.046715</td>\n",
       "    </tr>\n",
       "    <tr>\n",
       "      <th>1</th>\n",
       "      <td>BMW</td>\n",
       "      <td>1 Series</td>\n",
       "      <td>2011</td>\n",
       "      <td>premium unleaded (required)</td>\n",
       "      <td>300.0</td>\n",
       "      <td>6.0</td>\n",
       "      <td>MANUAL</td>\n",
       "      <td>rear wheel drive</td>\n",
       "      <td>2.0</td>\n",
       "      <td>28</td>\n",
       "      <td>19</td>\n",
       "      <td>40650</td>\n",
       "      <td>12.379715</td>\n",
       "      <td>8.400521</td>\n",
       "    </tr>\n",
       "    <tr>\n",
       "      <th>2</th>\n",
       "      <td>BMW</td>\n",
       "      <td>1 Series</td>\n",
       "      <td>2011</td>\n",
       "      <td>premium unleaded (required)</td>\n",
       "      <td>300.0</td>\n",
       "      <td>6.0</td>\n",
       "      <td>MANUAL</td>\n",
       "      <td>rear wheel drive</td>\n",
       "      <td>2.0</td>\n",
       "      <td>28</td>\n",
       "      <td>20</td>\n",
       "      <td>36350</td>\n",
       "      <td>11.760729</td>\n",
       "      <td>8.400521</td>\n",
       "    </tr>\n",
       "    <tr>\n",
       "      <th>3</th>\n",
       "      <td>BMW</td>\n",
       "      <td>1 Series</td>\n",
       "      <td>2011</td>\n",
       "      <td>premium unleaded (required)</td>\n",
       "      <td>230.0</td>\n",
       "      <td>6.0</td>\n",
       "      <td>MANUAL</td>\n",
       "      <td>rear wheel drive</td>\n",
       "      <td>2.0</td>\n",
       "      <td>28</td>\n",
       "      <td>18</td>\n",
       "      <td>29450</td>\n",
       "      <td>13.067477</td>\n",
       "      <td>8.400521</td>\n",
       "    </tr>\n",
       "    <tr>\n",
       "      <th>4</th>\n",
       "      <td>BMW</td>\n",
       "      <td>1 Series</td>\n",
       "      <td>2011</td>\n",
       "      <td>premium unleaded (required)</td>\n",
       "      <td>230.0</td>\n",
       "      <td>6.0</td>\n",
       "      <td>MANUAL</td>\n",
       "      <td>rear wheel drive</td>\n",
       "      <td>2.0</td>\n",
       "      <td>28</td>\n",
       "      <td>18</td>\n",
       "      <td>34500</td>\n",
       "      <td>13.067477</td>\n",
       "      <td>8.400521</td>\n",
       "    </tr>\n",
       "  </tbody>\n",
       "</table>\n",
       "</div>"
      ],
      "text/plain": [
       "  Make       Model  Year             Engine Fuel Type  Engine HP  \\\n",
       "0  BMW  1 Series M  2011  premium unleaded (required)      335.0   \n",
       "1  BMW    1 Series  2011  premium unleaded (required)      300.0   \n",
       "2  BMW    1 Series  2011  premium unleaded (required)      300.0   \n",
       "3  BMW    1 Series  2011  premium unleaded (required)      230.0   \n",
       "4  BMW    1 Series  2011  premium unleaded (required)      230.0   \n",
       "\n",
       "   Engine Cylinders Transmission Type     Driven_Wheels  Number of Doors  \\\n",
       "0               6.0            MANUAL  rear wheel drive              2.0   \n",
       "1               6.0            MANUAL  rear wheel drive              2.0   \n",
       "2               6.0            MANUAL  rear wheel drive              2.0   \n",
       "3               6.0            MANUAL  rear wheel drive              2.0   \n",
       "4               6.0            MANUAL  rear wheel drive              2.0   \n",
       "\n",
       "   highway MPG  city mpg   MSRP  Verbrauch Innerorts  Verbrauch Ausserorts  \n",
       "0           26        19  46135            12.379715              9.046715  \n",
       "1           28        19  40650            12.379715              8.400521  \n",
       "2           28        20  36350            11.760729              8.400521  \n",
       "3           28        18  29450            13.067477              8.400521  \n",
       "4           28        18  34500            13.067477              8.400521  "
      ]
     },
     "execution_count": 16,
     "metadata": {},
     "output_type": "execute_result"
    }
   ],
   "source": [
    "car_df.head(5)"
   ]
  },
  {
   "cell_type": "markdown",
   "metadata": {},
   "source": [
    "***Aufgabe***: Entfernen Sie nun die Angaben in MPG."
   ]
  },
  {
   "cell_type": "markdown",
   "metadata": {},
   "source": [
    "***==> Lösung***:"
   ]
  },
  {
   "cell_type": "code",
   "execution_count": 17,
   "metadata": {},
   "outputs": [],
   "source": [
    "car_df = car_df.drop(['highway MPG', 'city mpg'], axis=1)"
   ]
  },
  {
   "cell_type": "markdown",
   "metadata": {},
   "source": [
    "**<==**"
   ]
  },
  {
   "cell_type": "markdown",
   "metadata": {},
   "source": [
    "### Umbenennen von Spalten\n",
    "Als letzter Vorbereitungsschritt wollen wir die Attribute auf Deutsch und zu bei uns gängigen Bezeichnungen umbenennen. \n",
    "MSRP steht für *manufacturer''s suggested retail price*, also sowas wie *unverbindliche Preisempfehlung*; wir benennen das der Einfachheit halber einfach als `Preis`:"
   ]
  },
  {
   "cell_type": "code",
   "execution_count": 18,
   "metadata": {},
   "outputs": [],
   "source": [
    "car_df = car_df.rename(columns={'Make': 'Marke',\n",
    "                                'Model': 'Modell',\n",
    "                                'Engine Fuel Type': 'Treibstoff',\n",
    "                                'Engine HP': 'PS',\n",
    "                                'Engine Cylinders': 'Zylinder',\n",
    "                                'Driven_Wheels': 'Antrieb',\n",
    "                                'Number of Doors': 'Tueren',\n",
    "                                'Transmission Type': 'Schaltung',\n",
    "                                'MSRP': 'Preis'\n",
    "                               })"
   ]
  },
  {
   "cell_type": "markdown",
   "metadata": {},
   "source": [
    "## 4. Ein Blick in die Daten\n",
    "Nun wollen wir die Werte der einzelnen Attribute (oder Spalten) genauer untersuchen. \n",
    "\n",
    "### Wie viele Datensätze enthalten einen Wert?\n",
    "Als erstes wollen wir die Anzahl der Datensätze sehen, die einen Wert enthalten:"
   ]
  },
  {
   "cell_type": "code",
   "execution_count": 19,
   "metadata": {},
   "outputs": [
    {
     "data": {
      "text/plain": [
       "Marke                   11099\n",
       "Modell                  11099\n",
       "Year                    11099\n",
       "Treibstoff              11096\n",
       "PS                      11030\n",
       "Zylinder                11069\n",
       "Schaltung               11099\n",
       "Antrieb                 11099\n",
       "Tueren                  11093\n",
       "Preis                   11099\n",
       "Verbrauch Innerorts     11099\n",
       "Verbrauch Ausserorts    11099\n",
       "dtype: int64"
      ]
     },
     "execution_count": 19,
     "metadata": {},
     "output_type": "execute_result"
    }
   ],
   "source": [
    "car_df.count()"
   ]
  },
  {
   "cell_type": "code",
   "execution_count": 20,
   "metadata": {},
   "outputs": [
    {
     "data": {
      "text/plain": [
       "(11099, 12)"
      ]
     },
     "execution_count": 20,
     "metadata": {},
     "output_type": "execute_result"
    }
   ],
   "source": [
    "car_df.shape"
   ]
  },
  {
   "cell_type": "markdown",
   "metadata": {},
   "source": [
    "Wir sehen, dass wir (nach den obigen Datenbereinigungen) insgesamt 11099 Datensätze (\"Zeilen im Data Frame\") haben. Die Attribute `Marke`, `Modell`, `Baujahr` und andere sind bei allen Autos angegeben. Hingegen fehlt bei 3 (=11099-11096) Autos die Angabe des Treibstoffs, und bei 69 Fahrzeugen haben wir keine Angabe über die Motorenstärke (in `PS`). Weiter fehlt bei 30 Autos die Angabe zu den Zylindern.\n",
    "\n",
    "***Frage***: Haben Sie eine Vermutung, weshalb bei gewissen Fahrzeugen z.B. die Anzahl Zylinder fehlen könnte? Anwendungswissen (auf Englisch: *Domain Knowledge*), hier über Autos, ist in der Praxis eine wichtige Quelle für Hypothesen, die danach auf Grund der Daten überprüft werden."
   ]
  },
  {
   "cell_type": "markdown",
   "metadata": {},
   "source": [
    "***==> Antwort***: Das kann verschiedene Gründe haben:\n",
    "* Der Wert ist nicht bekannt (z.B. weil eine PS-Messung noch nicht erfolgt ist)\n",
    "* Der Wert wurde nicht eingetragen\n",
    "* Der Wert kann gar nicht bestimmt werden - beispielsweise hat ein Elektrauto keine Zylinder und keine Gangschaltung!\n",
    "\n",
    "Das Beispiel im letzten Punkt (Elektrautos haben keine Zylinder und keine Gangschaltung) ist ein Beispiel von Fachwissen (hier aus dem Bereich der Autos), das wir hier verwendet haben, um eine Beobachtung aus den Daten zu Erklären.  Wir werden die Elektroautos gleich noch genauer anschauen.\n",
    "\n",
    "Nicht vorhandene Werte werden in den meisten Programmiersprachen besonders behandelt. In Python werden Zahlenwerte, die nicht vorhanden sind, mit `NaN` vermerkt (das steht für *not a number*). Mit dem Befehl `car_df.count()` werden für jede Spalte diejenigen Zeilen gezählt, für die in dieser Spalte ein effektiver Wert steht. Die Zeilen, für die kein Treibstoff angegeben ist, können wir z.B. mit dem Befehlt `pd.isna` identifizieren (die Funktion gibt für jede Eingabe einen Wahrheitswert (wahr/falsch) zurück; wir verwenden das Ergebnis der Funktion danach, um logische Indizierung im Data Frame zu machen):"
   ]
  },
  {
   "cell_type": "code",
   "execution_count": 21,
   "metadata": {},
   "outputs": [
    {
     "data": {
      "text/html": [
       "<div>\n",
       "<style scoped>\n",
       "    .dataframe tbody tr th:only-of-type {\n",
       "        vertical-align: middle;\n",
       "    }\n",
       "\n",
       "    .dataframe tbody tr th {\n",
       "        vertical-align: top;\n",
       "    }\n",
       "\n",
       "    .dataframe thead th {\n",
       "        text-align: right;\n",
       "    }\n",
       "</style>\n",
       "<table border=\"1\" class=\"dataframe\">\n",
       "  <thead>\n",
       "    <tr style=\"text-align: right;\">\n",
       "      <th></th>\n",
       "      <th>Marke</th>\n",
       "      <th>Modell</th>\n",
       "      <th>Year</th>\n",
       "      <th>Treibstoff</th>\n",
       "      <th>PS</th>\n",
       "      <th>Zylinder</th>\n",
       "      <th>Schaltung</th>\n",
       "      <th>Antrieb</th>\n",
       "      <th>Tueren</th>\n",
       "      <th>Preis</th>\n",
       "      <th>Verbrauch Innerorts</th>\n",
       "      <th>Verbrauch Ausserorts</th>\n",
       "    </tr>\n",
       "  </thead>\n",
       "  <tbody>\n",
       "    <tr>\n",
       "      <th>11321</th>\n",
       "      <td>Suzuki</td>\n",
       "      <td>Verona</td>\n",
       "      <td>2004</td>\n",
       "      <td>NaN</td>\n",
       "      <td>155.0</td>\n",
       "      <td>6.0</td>\n",
       "      <td>AUTOMATIC</td>\n",
       "      <td>front wheel drive</td>\n",
       "      <td>4.0</td>\n",
       "      <td>17199</td>\n",
       "      <td>13.836152</td>\n",
       "      <td>9.408583</td>\n",
       "    </tr>\n",
       "    <tr>\n",
       "      <th>11322</th>\n",
       "      <td>Suzuki</td>\n",
       "      <td>Verona</td>\n",
       "      <td>2004</td>\n",
       "      <td>NaN</td>\n",
       "      <td>155.0</td>\n",
       "      <td>6.0</td>\n",
       "      <td>AUTOMATIC</td>\n",
       "      <td>front wheel drive</td>\n",
       "      <td>4.0</td>\n",
       "      <td>20199</td>\n",
       "      <td>13.836152</td>\n",
       "      <td>9.408583</td>\n",
       "    </tr>\n",
       "    <tr>\n",
       "      <th>11323</th>\n",
       "      <td>Suzuki</td>\n",
       "      <td>Verona</td>\n",
       "      <td>2004</td>\n",
       "      <td>NaN</td>\n",
       "      <td>155.0</td>\n",
       "      <td>6.0</td>\n",
       "      <td>AUTOMATIC</td>\n",
       "      <td>front wheel drive</td>\n",
       "      <td>4.0</td>\n",
       "      <td>18499</td>\n",
       "      <td>13.836152</td>\n",
       "      <td>9.408583</td>\n",
       "    </tr>\n",
       "  </tbody>\n",
       "</table>\n",
       "</div>"
      ],
      "text/plain": [
       "        Marke  Modell  Year Treibstoff     PS  Zylinder  Schaltung  \\\n",
       "11321  Suzuki  Verona  2004        NaN  155.0       6.0  AUTOMATIC   \n",
       "11322  Suzuki  Verona  2004        NaN  155.0       6.0  AUTOMATIC   \n",
       "11323  Suzuki  Verona  2004        NaN  155.0       6.0  AUTOMATIC   \n",
       "\n",
       "                 Antrieb  Tueren  Preis  Verbrauch Innerorts  \\\n",
       "11321  front wheel drive     4.0  17199            13.836152   \n",
       "11322  front wheel drive     4.0  20199            13.836152   \n",
       "11323  front wheel drive     4.0  18499            13.836152   \n",
       "\n",
       "       Verbrauch Ausserorts  \n",
       "11321              9.408583  \n",
       "11322              9.408583  \n",
       "11323              9.408583  "
      ]
     },
     "execution_count": 21,
     "metadata": {},
     "output_type": "execute_result"
    }
   ],
   "source": [
    "car_df[ pd.isna(car_df['Treibstoff']) ]"
   ]
  },
  {
   "cell_type": "markdown",
   "metadata": {},
   "source": [
    "**<==**"
   ]
  },
  {
   "cell_type": "markdown",
   "metadata": {},
   "source": [
    "### Welche Werte kommen wie oft vor?\n",
    "Als nächstes möchten wir sehen, welche Treibstoff-Arten wie oft vorkommen:"
   ]
  },
  {
   "cell_type": "code",
   "execution_count": 22,
   "metadata": {},
   "outputs": [
    {
     "data": {
      "text/plain": [
       "Treibstoff\n",
       "diesel                                           150\n",
       "electric                                          66\n",
       "flex-fuel (premium unleaded recommended/E85)      26\n",
       "flex-fuel (premium unleaded required/E85)         53\n",
       "flex-fuel (unleaded/E85)                         887\n",
       "flex-fuel (unleaded/natural gas)                   6\n",
       "natural gas                                        2\n",
       "premium unleaded (recommended)                  1391\n",
       "premium unleaded (required)                     1947\n",
       "regular unleaded                                6568\n",
       "dtype: int64"
      ]
     },
     "execution_count": 22,
     "metadata": {},
     "output_type": "execute_result"
    }
   ],
   "source": [
    "car_df.groupby('Treibstoff').size()"
   ]
  },
  {
   "cell_type": "markdown",
   "metadata": {},
   "source": [
    "Wir können auch die Kombination von `Treibstoff` und Anzahl `Zylinder` anschauen:"
   ]
  },
  {
   "cell_type": "code",
   "execution_count": 23,
   "metadata": {},
   "outputs": [
    {
     "data": {
      "text/plain": [
       "Treibstoff                                    Zylinder\n",
       "diesel                                        4.0           90\n",
       "                                              5.0            3\n",
       "                                              6.0           56\n",
       "                                              10.0           1\n",
       "electric                                      0.0           56\n",
       "flex-fuel (premium unleaded recommended/E85)  4.0           17\n",
       "                                              8.0            9\n",
       "flex-fuel (premium unleaded required/E85)     6.0           11\n",
       "                                              8.0           18\n",
       "                                              12.0          24\n",
       "flex-fuel (unleaded/E85)                      4.0           98\n",
       "                                              6.0          413\n",
       "                                              8.0          376\n",
       "flex-fuel (unleaded/natural gas)              6.0            6\n",
       "natural gas                                   4.0            2\n",
       "premium unleaded (recommended)                4.0          794\n",
       "                                              5.0           16\n",
       "                                              6.0          361\n",
       "                                              8.0          216\n",
       "                                              12.0           4\n",
       "premium unleaded (required)                   4.0          329\n",
       "                                              5.0            3\n",
       "                                              6.0          747\n",
       "                                              8.0          592\n",
       "                                              10.0          64\n",
       "                                              12.0         192\n",
       "                                              16.0           3\n",
       "regular unleaded                              3.0           30\n",
       "                                              4.0         2982\n",
       "                                              5.0          137\n",
       "                                              6.0         2663\n",
       "                                              8.0          745\n",
       "                                              12.0           8\n",
       "dtype: int64"
      ]
     },
     "execution_count": 23,
     "metadata": {},
     "output_type": "execute_result"
    }
   ],
   "source": [
    "car_df.groupby(['Treibstoff', 'Zylinder']).size()"
   ]
  },
  {
   "cell_type": "markdown",
   "metadata": {},
   "source": [
    "***Frage***: Betrachten Sie in den beiden obenstehenden Ausgaben die Elektroautos. Was fällt ihnen auf?"
   ]
  },
  {
   "cell_type": "markdown",
   "metadata": {},
   "source": [
    "***==> Antwort***: In der vorletzten Auswertung hatten wir 66 Elektroautos gezählt:\n",
    "        \n",
    "`electric                                          66`\n",
    "\n",
    "In der obigen Auswertung haben wir allerdings nur nor 56 Elektroautos (diese haben allesamt 0 Zylinder):\n",
    "    \n",
    "`electric                                      0.0           56`\n",
    "\n",
    "Es sind also 10 Elektroautos \"verloren gegangen\"!\n",
    "\n",
    "**<==**"
   ]
  },
  {
   "cell_type": "markdown",
   "metadata": {},
   "source": [
    "Um dieser Beobachtung auf den Grund zu gehen, werden wir die Liste aller Elektroautos anschauen. In Jupyter Notebooks werden der besseren Übersichtlichkeit willen normalerweise bei grossen Data Frames nicht alle Zeilen ausgegeben. Die maximale Anzahl Zeilen, die ausgegeben wird, wird über die Option `display.max_rows` gesetzt:"
   ]
  },
  {
   "cell_type": "code",
   "execution_count": 24,
   "metadata": {},
   "outputs": [
    {
     "data": {
      "text/plain": [
       "60"
      ]
     },
     "execution_count": 24,
     "metadata": {},
     "output_type": "execute_result"
    }
   ],
   "source": [
    "# aktuellen Wert von display.max_rows abfragen\n",
    "pd.get_option('display.max_rows') "
   ]
  },
  {
   "cell_type": "code",
   "execution_count": 25,
   "metadata": {},
   "outputs": [],
   "source": [
    "# neuen Wert von display.max_rows setzen\n",
    "pd.set_option('display.max_rows', car_df.shape[0]+1) "
   ]
  },
  {
   "cell_type": "code",
   "execution_count": 26,
   "metadata": {},
   "outputs": [
    {
     "data": {
      "text/plain": [
       "11099"
      ]
     },
     "execution_count": 26,
     "metadata": {},
     "output_type": "execute_result"
    }
   ],
   "source": [
    "car_df.shape[0]"
   ]
  },
  {
   "cell_type": "code",
   "execution_count": 27,
   "metadata": {
    "scrolled": false
   },
   "outputs": [
    {
     "data": {
      "text/html": [
       "<div>\n",
       "<style scoped>\n",
       "    .dataframe tbody tr th:only-of-type {\n",
       "        vertical-align: middle;\n",
       "    }\n",
       "\n",
       "    .dataframe tbody tr th {\n",
       "        vertical-align: top;\n",
       "    }\n",
       "\n",
       "    .dataframe thead th {\n",
       "        text-align: right;\n",
       "    }\n",
       "</style>\n",
       "<table border=\"1\" class=\"dataframe\">\n",
       "  <thead>\n",
       "    <tr style=\"text-align: right;\">\n",
       "      <th></th>\n",
       "      <th>Marke</th>\n",
       "      <th>Modell</th>\n",
       "      <th>Year</th>\n",
       "      <th>Treibstoff</th>\n",
       "      <th>PS</th>\n",
       "      <th>Zylinder</th>\n",
       "      <th>Schaltung</th>\n",
       "      <th>Antrieb</th>\n",
       "      <th>Tueren</th>\n",
       "      <th>Preis</th>\n",
       "      <th>Verbrauch Innerorts</th>\n",
       "      <th>Verbrauch Ausserorts</th>\n",
       "    </tr>\n",
       "  </thead>\n",
       "  <tbody>\n",
       "    <tr>\n",
       "      <th>539</th>\n",
       "      <td>FIAT</td>\n",
       "      <td>500e</td>\n",
       "      <td>2015</td>\n",
       "      <td>electric</td>\n",
       "      <td>NaN</td>\n",
       "      <td>0.0</td>\n",
       "      <td>DIRECT_DRIVE</td>\n",
       "      <td>front wheel drive</td>\n",
       "      <td>2.0</td>\n",
       "      <td>31800</td>\n",
       "      <td>1.927988</td>\n",
       "      <td>2.177913</td>\n",
       "    </tr>\n",
       "    <tr>\n",
       "      <th>540</th>\n",
       "      <td>FIAT</td>\n",
       "      <td>500e</td>\n",
       "      <td>2016</td>\n",
       "      <td>electric</td>\n",
       "      <td>NaN</td>\n",
       "      <td>0.0</td>\n",
       "      <td>DIRECT_DRIVE</td>\n",
       "      <td>front wheel drive</td>\n",
       "      <td>2.0</td>\n",
       "      <td>31800</td>\n",
       "      <td>1.943922</td>\n",
       "      <td>2.283637</td>\n",
       "    </tr>\n",
       "    <tr>\n",
       "      <th>541</th>\n",
       "      <td>FIAT</td>\n",
       "      <td>500e</td>\n",
       "      <td>2017</td>\n",
       "      <td>electric</td>\n",
       "      <td>NaN</td>\n",
       "      <td>0.0</td>\n",
       "      <td>DIRECT_DRIVE</td>\n",
       "      <td>front wheel drive</td>\n",
       "      <td>2.0</td>\n",
       "      <td>31800</td>\n",
       "      <td>1.943922</td>\n",
       "      <td>2.283637</td>\n",
       "    </tr>\n",
       "    <tr>\n",
       "      <th>1680</th>\n",
       "      <td>Mercedes-Benz</td>\n",
       "      <td>B-Class Electric Drive</td>\n",
       "      <td>2015</td>\n",
       "      <td>electric</td>\n",
       "      <td>177.0</td>\n",
       "      <td>0.0</td>\n",
       "      <td>DIRECT_DRIVE</td>\n",
       "      <td>front wheel drive</td>\n",
       "      <td>4.0</td>\n",
       "      <td>41450</td>\n",
       "      <td>2.767230</td>\n",
       "      <td>2.868471</td>\n",
       "    </tr>\n",
       "    <tr>\n",
       "      <th>1681</th>\n",
       "      <td>Mercedes-Benz</td>\n",
       "      <td>B-Class Electric Drive</td>\n",
       "      <td>2016</td>\n",
       "      <td>electric</td>\n",
       "      <td>177.0</td>\n",
       "      <td>0.0</td>\n",
       "      <td>DIRECT_DRIVE</td>\n",
       "      <td>front wheel drive</td>\n",
       "      <td>4.0</td>\n",
       "      <td>41450</td>\n",
       "      <td>2.767230</td>\n",
       "      <td>2.868471</td>\n",
       "    </tr>\n",
       "    <tr>\n",
       "      <th>1682</th>\n",
       "      <td>Mercedes-Benz</td>\n",
       "      <td>B-Class Electric Drive</td>\n",
       "      <td>2017</td>\n",
       "      <td>electric</td>\n",
       "      <td>177.0</td>\n",
       "      <td>0.0</td>\n",
       "      <td>DIRECT_DRIVE</td>\n",
       "      <td>front wheel drive</td>\n",
       "      <td>4.0</td>\n",
       "      <td>39900</td>\n",
       "      <td>2.767230</td>\n",
       "      <td>2.868471</td>\n",
       "    </tr>\n",
       "    <tr>\n",
       "      <th>1983</th>\n",
       "      <td>Chevrolet</td>\n",
       "      <td>Bolt EV</td>\n",
       "      <td>2017</td>\n",
       "      <td>electric</td>\n",
       "      <td>200.0</td>\n",
       "      <td>NaN</td>\n",
       "      <td>DIRECT_DRIVE</td>\n",
       "      <td>front wheel drive</td>\n",
       "      <td>4.0</td>\n",
       "      <td>40905</td>\n",
       "      <td>1.837614</td>\n",
       "      <td>2.138314</td>\n",
       "    </tr>\n",
       "    <tr>\n",
       "      <th>1984</th>\n",
       "      <td>Chevrolet</td>\n",
       "      <td>Bolt EV</td>\n",
       "      <td>2017</td>\n",
       "      <td>electric</td>\n",
       "      <td>200.0</td>\n",
       "      <td>NaN</td>\n",
       "      <td>DIRECT_DRIVE</td>\n",
       "      <td>front wheel drive</td>\n",
       "      <td>4.0</td>\n",
       "      <td>36620</td>\n",
       "      <td>1.837614</td>\n",
       "      <td>2.138314</td>\n",
       "    </tr>\n",
       "    <tr>\n",
       "      <th>3716</th>\n",
       "      <td>Volkswagen</td>\n",
       "      <td>e-Golf</td>\n",
       "      <td>2015</td>\n",
       "      <td>electric</td>\n",
       "      <td>115.0</td>\n",
       "      <td>NaN</td>\n",
       "      <td>DIRECT_DRIVE</td>\n",
       "      <td>front wheel drive</td>\n",
       "      <td>4.0</td>\n",
       "      <td>33450</td>\n",
       "      <td>1.866782</td>\n",
       "      <td>2.240139</td>\n",
       "    </tr>\n",
       "    <tr>\n",
       "      <th>3717</th>\n",
       "      <td>Volkswagen</td>\n",
       "      <td>e-Golf</td>\n",
       "      <td>2015</td>\n",
       "      <td>electric</td>\n",
       "      <td>115.0</td>\n",
       "      <td>NaN</td>\n",
       "      <td>DIRECT_DRIVE</td>\n",
       "      <td>front wheel drive</td>\n",
       "      <td>4.0</td>\n",
       "      <td>35445</td>\n",
       "      <td>1.866782</td>\n",
       "      <td>2.240139</td>\n",
       "    </tr>\n",
       "    <tr>\n",
       "      <th>3718</th>\n",
       "      <td>Volkswagen</td>\n",
       "      <td>e-Golf</td>\n",
       "      <td>2016</td>\n",
       "      <td>electric</td>\n",
       "      <td>115.0</td>\n",
       "      <td>NaN</td>\n",
       "      <td>DIRECT_DRIVE</td>\n",
       "      <td>front wheel drive</td>\n",
       "      <td>4.0</td>\n",
       "      <td>28995</td>\n",
       "      <td>1.866782</td>\n",
       "      <td>2.240139</td>\n",
       "    </tr>\n",
       "    <tr>\n",
       "      <th>3719</th>\n",
       "      <td>Volkswagen</td>\n",
       "      <td>e-Golf</td>\n",
       "      <td>2016</td>\n",
       "      <td>electric</td>\n",
       "      <td>115.0</td>\n",
       "      <td>NaN</td>\n",
       "      <td>DIRECT_DRIVE</td>\n",
       "      <td>front wheel drive</td>\n",
       "      <td>4.0</td>\n",
       "      <td>35595</td>\n",
       "      <td>1.866782</td>\n",
       "      <td>2.240139</td>\n",
       "    </tr>\n",
       "    <tr>\n",
       "      <th>4705</th>\n",
       "      <td>Honda</td>\n",
       "      <td>Fit EV</td>\n",
       "      <td>2013</td>\n",
       "      <td>electric</td>\n",
       "      <td>NaN</td>\n",
       "      <td>0.0</td>\n",
       "      <td>DIRECT_DRIVE</td>\n",
       "      <td>front wheel drive</td>\n",
       "      <td>4.0</td>\n",
       "      <td>36625</td>\n",
       "      <td>1.781929</td>\n",
       "      <td>2.240139</td>\n",
       "    </tr>\n",
       "    <tr>\n",
       "      <th>4706</th>\n",
       "      <td>Honda</td>\n",
       "      <td>Fit EV</td>\n",
       "      <td>2014</td>\n",
       "      <td>electric</td>\n",
       "      <td>NaN</td>\n",
       "      <td>0.0</td>\n",
       "      <td>DIRECT_DRIVE</td>\n",
       "      <td>front wheel drive</td>\n",
       "      <td>4.0</td>\n",
       "      <td>36625</td>\n",
       "      <td>1.781929</td>\n",
       "      <td>2.240139</td>\n",
       "    </tr>\n",
       "    <tr>\n",
       "      <th>4785</th>\n",
       "      <td>Ford</td>\n",
       "      <td>Focus</td>\n",
       "      <td>2015</td>\n",
       "      <td>electric</td>\n",
       "      <td>NaN</td>\n",
       "      <td>0.0</td>\n",
       "      <td>DIRECT_DRIVE</td>\n",
       "      <td>front wheel drive</td>\n",
       "      <td>4.0</td>\n",
       "      <td>29170</td>\n",
       "      <td>2.138314</td>\n",
       "      <td>2.375905</td>\n",
       "    </tr>\n",
       "    <tr>\n",
       "      <th>4789</th>\n",
       "      <td>Ford</td>\n",
       "      <td>Focus</td>\n",
       "      <td>2016</td>\n",
       "      <td>electric</td>\n",
       "      <td>NaN</td>\n",
       "      <td>0.0</td>\n",
       "      <td>DIRECT_DRIVE</td>\n",
       "      <td>front wheel drive</td>\n",
       "      <td>4.0</td>\n",
       "      <td>29170</td>\n",
       "      <td>2.138314</td>\n",
       "      <td>2.375905</td>\n",
       "    </tr>\n",
       "    <tr>\n",
       "      <th>4798</th>\n",
       "      <td>Ford</td>\n",
       "      <td>Focus</td>\n",
       "      <td>2017</td>\n",
       "      <td>electric</td>\n",
       "      <td>NaN</td>\n",
       "      <td>0.0</td>\n",
       "      <td>DIRECT_DRIVE</td>\n",
       "      <td>front wheel drive</td>\n",
       "      <td>4.0</td>\n",
       "      <td>29120</td>\n",
       "      <td>2.138314</td>\n",
       "      <td>2.375905</td>\n",
       "    </tr>\n",
       "    <tr>\n",
       "      <th>5778</th>\n",
       "      <td>Mitsubishi</td>\n",
       "      <td>i-MiEV</td>\n",
       "      <td>2014</td>\n",
       "      <td>electric</td>\n",
       "      <td>NaN</td>\n",
       "      <td>NaN</td>\n",
       "      <td>DIRECT_DRIVE</td>\n",
       "      <td>rear wheel drive</td>\n",
       "      <td>4.0</td>\n",
       "      <td>22995</td>\n",
       "      <td>1.866782</td>\n",
       "      <td>2.375905</td>\n",
       "    </tr>\n",
       "    <tr>\n",
       "      <th>5779</th>\n",
       "      <td>Mitsubishi</td>\n",
       "      <td>i-MiEV</td>\n",
       "      <td>2016</td>\n",
       "      <td>electric</td>\n",
       "      <td>66.0</td>\n",
       "      <td>NaN</td>\n",
       "      <td>DIRECT_DRIVE</td>\n",
       "      <td>rear wheel drive</td>\n",
       "      <td>4.0</td>\n",
       "      <td>22995</td>\n",
       "      <td>1.866782</td>\n",
       "      <td>2.375905</td>\n",
       "    </tr>\n",
       "    <tr>\n",
       "      <th>5780</th>\n",
       "      <td>Mitsubishi</td>\n",
       "      <td>i-MiEV</td>\n",
       "      <td>2017</td>\n",
       "      <td>electric</td>\n",
       "      <td>66.0</td>\n",
       "      <td>NaN</td>\n",
       "      <td>DIRECT_DRIVE</td>\n",
       "      <td>rear wheel drive</td>\n",
       "      <td>4.0</td>\n",
       "      <td>22995</td>\n",
       "      <td>1.943922</td>\n",
       "      <td>2.306025</td>\n",
       "    </tr>\n",
       "    <tr>\n",
       "      <th>5790</th>\n",
       "      <td>BMW</td>\n",
       "      <td>i3</td>\n",
       "      <td>2015</td>\n",
       "      <td>electric</td>\n",
       "      <td>170.0</td>\n",
       "      <td>0.0</td>\n",
       "      <td>DIRECT_DRIVE</td>\n",
       "      <td>rear wheel drive</td>\n",
       "      <td>4.0</td>\n",
       "      <td>42400</td>\n",
       "      <td>1.716895</td>\n",
       "      <td>2.119050</td>\n",
       "    </tr>\n",
       "    <tr>\n",
       "      <th>5791</th>\n",
       "      <td>BMW</td>\n",
       "      <td>i3</td>\n",
       "      <td>2016</td>\n",
       "      <td>electric</td>\n",
       "      <td>170.0</td>\n",
       "      <td>0.0</td>\n",
       "      <td>DIRECT_DRIVE</td>\n",
       "      <td>rear wheel drive</td>\n",
       "      <td>4.0</td>\n",
       "      <td>42400</td>\n",
       "      <td>1.716895</td>\n",
       "      <td>2.119050</td>\n",
       "    </tr>\n",
       "    <tr>\n",
       "      <th>5792</th>\n",
       "      <td>BMW</td>\n",
       "      <td>i3</td>\n",
       "      <td>2017</td>\n",
       "      <td>electric</td>\n",
       "      <td>170.0</td>\n",
       "      <td>0.0</td>\n",
       "      <td>DIRECT_DRIVE</td>\n",
       "      <td>rear wheel drive</td>\n",
       "      <td>4.0</td>\n",
       "      <td>42400</td>\n",
       "      <td>1.716895</td>\n",
       "      <td>2.119050</td>\n",
       "    </tr>\n",
       "    <tr>\n",
       "      <th>5793</th>\n",
       "      <td>BMW</td>\n",
       "      <td>i3</td>\n",
       "      <td>2017</td>\n",
       "      <td>electric</td>\n",
       "      <td>170.0</td>\n",
       "      <td>0.0</td>\n",
       "      <td>DIRECT_DRIVE</td>\n",
       "      <td>rear wheel drive</td>\n",
       "      <td>4.0</td>\n",
       "      <td>43600</td>\n",
       "      <td>1.823369</td>\n",
       "      <td>2.219006</td>\n",
       "    </tr>\n",
       "    <tr>\n",
       "      <th>6385</th>\n",
       "      <td>Nissan</td>\n",
       "      <td>Leaf</td>\n",
       "      <td>2014</td>\n",
       "      <td>electric</td>\n",
       "      <td>NaN</td>\n",
       "      <td>0.0</td>\n",
       "      <td>DIRECT_DRIVE</td>\n",
       "      <td>front wheel drive</td>\n",
       "      <td>4.0</td>\n",
       "      <td>35020</td>\n",
       "      <td>1.866782</td>\n",
       "      <td>2.328857</td>\n",
       "    </tr>\n",
       "    <tr>\n",
       "      <th>6386</th>\n",
       "      <td>Nissan</td>\n",
       "      <td>Leaf</td>\n",
       "      <td>2014</td>\n",
       "      <td>electric</td>\n",
       "      <td>NaN</td>\n",
       "      <td>0.0</td>\n",
       "      <td>DIRECT_DRIVE</td>\n",
       "      <td>front wheel drive</td>\n",
       "      <td>4.0</td>\n",
       "      <td>32000</td>\n",
       "      <td>1.866782</td>\n",
       "      <td>2.328857</td>\n",
       "    </tr>\n",
       "    <tr>\n",
       "      <th>6387</th>\n",
       "      <td>Nissan</td>\n",
       "      <td>Leaf</td>\n",
       "      <td>2014</td>\n",
       "      <td>electric</td>\n",
       "      <td>NaN</td>\n",
       "      <td>0.0</td>\n",
       "      <td>DIRECT_DRIVE</td>\n",
       "      <td>front wheel drive</td>\n",
       "      <td>4.0</td>\n",
       "      <td>28980</td>\n",
       "      <td>1.866782</td>\n",
       "      <td>2.328857</td>\n",
       "    </tr>\n",
       "    <tr>\n",
       "      <th>6388</th>\n",
       "      <td>Nissan</td>\n",
       "      <td>Leaf</td>\n",
       "      <td>2015</td>\n",
       "      <td>electric</td>\n",
       "      <td>NaN</td>\n",
       "      <td>0.0</td>\n",
       "      <td>DIRECT_DRIVE</td>\n",
       "      <td>front wheel drive</td>\n",
       "      <td>4.0</td>\n",
       "      <td>32100</td>\n",
       "      <td>1.866782</td>\n",
       "      <td>2.328857</td>\n",
       "    </tr>\n",
       "    <tr>\n",
       "      <th>6389</th>\n",
       "      <td>Nissan</td>\n",
       "      <td>Leaf</td>\n",
       "      <td>2015</td>\n",
       "      <td>electric</td>\n",
       "      <td>NaN</td>\n",
       "      <td>0.0</td>\n",
       "      <td>DIRECT_DRIVE</td>\n",
       "      <td>front wheel drive</td>\n",
       "      <td>4.0</td>\n",
       "      <td>35120</td>\n",
       "      <td>1.866782</td>\n",
       "      <td>2.328857</td>\n",
       "    </tr>\n",
       "    <tr>\n",
       "      <th>6390</th>\n",
       "      <td>Nissan</td>\n",
       "      <td>Leaf</td>\n",
       "      <td>2015</td>\n",
       "      <td>electric</td>\n",
       "      <td>NaN</td>\n",
       "      <td>0.0</td>\n",
       "      <td>DIRECT_DRIVE</td>\n",
       "      <td>front wheel drive</td>\n",
       "      <td>4.0</td>\n",
       "      <td>29010</td>\n",
       "      <td>1.866782</td>\n",
       "      <td>2.328857</td>\n",
       "    </tr>\n",
       "    <tr>\n",
       "      <th>6391</th>\n",
       "      <td>Nissan</td>\n",
       "      <td>Leaf</td>\n",
       "      <td>2015</td>\n",
       "      <td>electric</td>\n",
       "      <td>NaN</td>\n",
       "      <td>0.0</td>\n",
       "      <td>DIRECT_DRIVE</td>\n",
       "      <td>front wheel drive</td>\n",
       "      <td>4.0</td>\n",
       "      <td>32000</td>\n",
       "      <td>1.866782</td>\n",
       "      <td>2.328857</td>\n",
       "    </tr>\n",
       "    <tr>\n",
       "      <th>6392</th>\n",
       "      <td>Nissan</td>\n",
       "      <td>Leaf</td>\n",
       "      <td>2016</td>\n",
       "      <td>electric</td>\n",
       "      <td>NaN</td>\n",
       "      <td>0.0</td>\n",
       "      <td>DIRECT_DRIVE</td>\n",
       "      <td>front wheel drive</td>\n",
       "      <td>4.0</td>\n",
       "      <td>29010</td>\n",
       "      <td>1.866782</td>\n",
       "      <td>2.328857</td>\n",
       "    </tr>\n",
       "    <tr>\n",
       "      <th>6393</th>\n",
       "      <td>Nissan</td>\n",
       "      <td>Leaf</td>\n",
       "      <td>2016</td>\n",
       "      <td>electric</td>\n",
       "      <td>NaN</td>\n",
       "      <td>0.0</td>\n",
       "      <td>DIRECT_DRIVE</td>\n",
       "      <td>front wheel drive</td>\n",
       "      <td>4.0</td>\n",
       "      <td>34200</td>\n",
       "      <td>1.896892</td>\n",
       "      <td>2.328857</td>\n",
       "    </tr>\n",
       "    <tr>\n",
       "      <th>6394</th>\n",
       "      <td>Nissan</td>\n",
       "      <td>Leaf</td>\n",
       "      <td>2016</td>\n",
       "      <td>electric</td>\n",
       "      <td>NaN</td>\n",
       "      <td>0.0</td>\n",
       "      <td>DIRECT_DRIVE</td>\n",
       "      <td>front wheel drive</td>\n",
       "      <td>4.0</td>\n",
       "      <td>36790</td>\n",
       "      <td>1.896892</td>\n",
       "      <td>2.328857</td>\n",
       "    </tr>\n",
       "    <tr>\n",
       "      <th>6921</th>\n",
       "      <td>Tesla</td>\n",
       "      <td>Model S</td>\n",
       "      <td>2014</td>\n",
       "      <td>electric</td>\n",
       "      <td>NaN</td>\n",
       "      <td>0.0</td>\n",
       "      <td>DIRECT_DRIVE</td>\n",
       "      <td>rear wheel drive</td>\n",
       "      <td>4.0</td>\n",
       "      <td>79900</td>\n",
       "      <td>2.672893</td>\n",
       "      <td>2.613495</td>\n",
       "    </tr>\n",
       "    <tr>\n",
       "      <th>6922</th>\n",
       "      <td>Tesla</td>\n",
       "      <td>Model S</td>\n",
       "      <td>2014</td>\n",
       "      <td>electric</td>\n",
       "      <td>NaN</td>\n",
       "      <td>0.0</td>\n",
       "      <td>DIRECT_DRIVE</td>\n",
       "      <td>rear wheel drive</td>\n",
       "      <td>4.0</td>\n",
       "      <td>69900</td>\n",
       "      <td>2.502283</td>\n",
       "      <td>2.424893</td>\n",
       "    </tr>\n",
       "    <tr>\n",
       "      <th>6923</th>\n",
       "      <td>Tesla</td>\n",
       "      <td>Model S</td>\n",
       "      <td>2014</td>\n",
       "      <td>electric</td>\n",
       "      <td>NaN</td>\n",
       "      <td>0.0</td>\n",
       "      <td>DIRECT_DRIVE</td>\n",
       "      <td>all wheel drive</td>\n",
       "      <td>4.0</td>\n",
       "      <td>104500</td>\n",
       "      <td>2.735053</td>\n",
       "      <td>2.502283</td>\n",
       "    </tr>\n",
       "    <tr>\n",
       "      <th>6924</th>\n",
       "      <td>Tesla</td>\n",
       "      <td>Model S</td>\n",
       "      <td>2014</td>\n",
       "      <td>electric</td>\n",
       "      <td>NaN</td>\n",
       "      <td>0.0</td>\n",
       "      <td>DIRECT_DRIVE</td>\n",
       "      <td>rear wheel drive</td>\n",
       "      <td>4.0</td>\n",
       "      <td>93400</td>\n",
       "      <td>2.672893</td>\n",
       "      <td>2.613495</td>\n",
       "    </tr>\n",
       "    <tr>\n",
       "      <th>6925</th>\n",
       "      <td>Tesla</td>\n",
       "      <td>Model S</td>\n",
       "      <td>2015</td>\n",
       "      <td>electric</td>\n",
       "      <td>NaN</td>\n",
       "      <td>0.0</td>\n",
       "      <td>DIRECT_DRIVE</td>\n",
       "      <td>rear wheel drive</td>\n",
       "      <td>4.0</td>\n",
       "      <td>69900</td>\n",
       "      <td>2.502283</td>\n",
       "      <td>2.424893</td>\n",
       "    </tr>\n",
       "    <tr>\n",
       "      <th>6926</th>\n",
       "      <td>Tesla</td>\n",
       "      <td>Model S</td>\n",
       "      <td>2015</td>\n",
       "      <td>electric</td>\n",
       "      <td>NaN</td>\n",
       "      <td>0.0</td>\n",
       "      <td>DIRECT_DRIVE</td>\n",
       "      <td>all wheel drive</td>\n",
       "      <td>4.0</td>\n",
       "      <td>75000</td>\n",
       "      <td>2.328857</td>\n",
       "      <td>2.306025</td>\n",
       "    </tr>\n",
       "    <tr>\n",
       "      <th>6927</th>\n",
       "      <td>Tesla</td>\n",
       "      <td>Model S</td>\n",
       "      <td>2015</td>\n",
       "      <td>electric</td>\n",
       "      <td>NaN</td>\n",
       "      <td>0.0</td>\n",
       "      <td>DIRECT_DRIVE</td>\n",
       "      <td>all wheel drive</td>\n",
       "      <td>4.0</td>\n",
       "      <td>85000</td>\n",
       "      <td>2.475943</td>\n",
       "      <td>2.219006</td>\n",
       "    </tr>\n",
       "    <tr>\n",
       "      <th>6928</th>\n",
       "      <td>Tesla</td>\n",
       "      <td>Model S</td>\n",
       "      <td>2015</td>\n",
       "      <td>electric</td>\n",
       "      <td>NaN</td>\n",
       "      <td>0.0</td>\n",
       "      <td>DIRECT_DRIVE</td>\n",
       "      <td>all wheel drive</td>\n",
       "      <td>4.0</td>\n",
       "      <td>105000</td>\n",
       "      <td>2.642860</td>\n",
       "      <td>2.400149</td>\n",
       "    </tr>\n",
       "    <tr>\n",
       "      <th>6929</th>\n",
       "      <td>Tesla</td>\n",
       "      <td>Model S</td>\n",
       "      <td>2015</td>\n",
       "      <td>electric</td>\n",
       "      <td>NaN</td>\n",
       "      <td>0.0</td>\n",
       "      <td>DIRECT_DRIVE</td>\n",
       "      <td>rear wheel drive</td>\n",
       "      <td>4.0</td>\n",
       "      <td>80000</td>\n",
       "      <td>2.672893</td>\n",
       "      <td>2.613495</td>\n",
       "    </tr>\n",
       "    <tr>\n",
       "      <th>6930</th>\n",
       "      <td>Tesla</td>\n",
       "      <td>Model S</td>\n",
       "      <td>2016</td>\n",
       "      <td>electric</td>\n",
       "      <td>NaN</td>\n",
       "      <td>0.0</td>\n",
       "      <td>DIRECT_DRIVE</td>\n",
       "      <td>all wheel drive</td>\n",
       "      <td>NaN</td>\n",
       "      <td>79500</td>\n",
       "      <td>2.306025</td>\n",
       "      <td>2.240139</td>\n",
       "    </tr>\n",
       "    <tr>\n",
       "      <th>6931</th>\n",
       "      <td>Tesla</td>\n",
       "      <td>Model S</td>\n",
       "      <td>2016</td>\n",
       "      <td>electric</td>\n",
       "      <td>NaN</td>\n",
       "      <td>0.0</td>\n",
       "      <td>DIRECT_DRIVE</td>\n",
       "      <td>all wheel drive</td>\n",
       "      <td>NaN</td>\n",
       "      <td>66000</td>\n",
       "      <td>2.400149</td>\n",
       "      <td>2.328857</td>\n",
       "    </tr>\n",
       "    <tr>\n",
       "      <th>6932</th>\n",
       "      <td>Tesla</td>\n",
       "      <td>Model S</td>\n",
       "      <td>2016</td>\n",
       "      <td>electric</td>\n",
       "      <td>NaN</td>\n",
       "      <td>0.0</td>\n",
       "      <td>DIRECT_DRIVE</td>\n",
       "      <td>all wheel drive</td>\n",
       "      <td>NaN</td>\n",
       "      <td>134500</td>\n",
       "      <td>2.556680</td>\n",
       "      <td>2.240139</td>\n",
       "    </tr>\n",
       "    <tr>\n",
       "      <th>6933</th>\n",
       "      <td>Tesla</td>\n",
       "      <td>Model S</td>\n",
       "      <td>2016</td>\n",
       "      <td>electric</td>\n",
       "      <td>NaN</td>\n",
       "      <td>0.0</td>\n",
       "      <td>DIRECT_DRIVE</td>\n",
       "      <td>rear wheel drive</td>\n",
       "      <td>NaN</td>\n",
       "      <td>74500</td>\n",
       "      <td>2.424893</td>\n",
       "      <td>2.352146</td>\n",
       "    </tr>\n",
       "    <tr>\n",
       "      <th>6934</th>\n",
       "      <td>Tesla</td>\n",
       "      <td>Model S</td>\n",
       "      <td>2016</td>\n",
       "      <td>electric</td>\n",
       "      <td>NaN</td>\n",
       "      <td>0.0</td>\n",
       "      <td>DIRECT_DRIVE</td>\n",
       "      <td>all wheel drive</td>\n",
       "      <td>NaN</td>\n",
       "      <td>71000</td>\n",
       "      <td>2.328857</td>\n",
       "      <td>2.198267</td>\n",
       "    </tr>\n",
       "    <tr>\n",
       "      <th>6935</th>\n",
       "      <td>Tesla</td>\n",
       "      <td>Model S</td>\n",
       "      <td>2016</td>\n",
       "      <td>electric</td>\n",
       "      <td>NaN</td>\n",
       "      <td>0.0</td>\n",
       "      <td>DIRECT_DRIVE</td>\n",
       "      <td>all wheel drive</td>\n",
       "      <td>4.0</td>\n",
       "      <td>75000</td>\n",
       "      <td>2.328857</td>\n",
       "      <td>2.306025</td>\n",
       "    </tr>\n",
       "    <tr>\n",
       "      <th>6936</th>\n",
       "      <td>Tesla</td>\n",
       "      <td>Model S</td>\n",
       "      <td>2016</td>\n",
       "      <td>electric</td>\n",
       "      <td>NaN</td>\n",
       "      <td>0.0</td>\n",
       "      <td>DIRECT_DRIVE</td>\n",
       "      <td>all wheel drive</td>\n",
       "      <td>4.0</td>\n",
       "      <td>89500</td>\n",
       "      <td>2.328857</td>\n",
       "      <td>2.198267</td>\n",
       "    </tr>\n",
       "    <tr>\n",
       "      <th>6937</th>\n",
       "      <td>Tesla</td>\n",
       "      <td>Model S</td>\n",
       "      <td>2016</td>\n",
       "      <td>electric</td>\n",
       "      <td>NaN</td>\n",
       "      <td>0.0</td>\n",
       "      <td>DIRECT_DRIVE</td>\n",
       "      <td>all wheel drive</td>\n",
       "      <td>4.0</td>\n",
       "      <td>112000</td>\n",
       "      <td>2.584776</td>\n",
       "      <td>2.352146</td>\n",
       "    </tr>\n",
       "    <tr>\n",
       "      <th>6938</th>\n",
       "      <td>Tesla</td>\n",
       "      <td>Model S</td>\n",
       "      <td>2016</td>\n",
       "      <td>electric</td>\n",
       "      <td>NaN</td>\n",
       "      <td>0.0</td>\n",
       "      <td>DIRECT_DRIVE</td>\n",
       "      <td>rear wheel drive</td>\n",
       "      <td>4.0</td>\n",
       "      <td>70000</td>\n",
       "      <td>2.672893</td>\n",
       "      <td>2.613495</td>\n",
       "    </tr>\n",
       "    <tr>\n",
       "      <th>8373</th>\n",
       "      <td>Toyota</td>\n",
       "      <td>RAV4 EV</td>\n",
       "      <td>2012</td>\n",
       "      <td>electric</td>\n",
       "      <td>154.0</td>\n",
       "      <td>NaN</td>\n",
       "      <td>DIRECT_DRIVE</td>\n",
       "      <td>front wheel drive</td>\n",
       "      <td>4.0</td>\n",
       "      <td>49800</td>\n",
       "      <td>3.015572</td>\n",
       "      <td>3.178575</td>\n",
       "    </tr>\n",
       "    <tr>\n",
       "      <th>8374</th>\n",
       "      <td>Toyota</td>\n",
       "      <td>RAV4 EV</td>\n",
       "      <td>2013</td>\n",
       "      <td>electric</td>\n",
       "      <td>NaN</td>\n",
       "      <td>0.0</td>\n",
       "      <td>DIRECT_DRIVE</td>\n",
       "      <td>front wheel drive</td>\n",
       "      <td>4.0</td>\n",
       "      <td>49800</td>\n",
       "      <td>3.015572</td>\n",
       "      <td>3.178575</td>\n",
       "    </tr>\n",
       "    <tr>\n",
       "      <th>8375</th>\n",
       "      <td>Toyota</td>\n",
       "      <td>RAV4 EV</td>\n",
       "      <td>2014</td>\n",
       "      <td>electric</td>\n",
       "      <td>NaN</td>\n",
       "      <td>0.0</td>\n",
       "      <td>DIRECT_DRIVE</td>\n",
       "      <td>front wheel drive</td>\n",
       "      <td>4.0</td>\n",
       "      <td>49800</td>\n",
       "      <td>3.015572</td>\n",
       "      <td>3.178575</td>\n",
       "    </tr>\n",
       "    <tr>\n",
       "      <th>9850</th>\n",
       "      <td>Kia</td>\n",
       "      <td>Soul EV</td>\n",
       "      <td>2015</td>\n",
       "      <td>electric</td>\n",
       "      <td>NaN</td>\n",
       "      <td>0.0</td>\n",
       "      <td>DIRECT_DRIVE</td>\n",
       "      <td>front wheel drive</td>\n",
       "      <td>4.0</td>\n",
       "      <td>35700</td>\n",
       "      <td>1.960122</td>\n",
       "      <td>2.556680</td>\n",
       "    </tr>\n",
       "    <tr>\n",
       "      <th>9851</th>\n",
       "      <td>Kia</td>\n",
       "      <td>Soul EV</td>\n",
       "      <td>2015</td>\n",
       "      <td>electric</td>\n",
       "      <td>NaN</td>\n",
       "      <td>0.0</td>\n",
       "      <td>DIRECT_DRIVE</td>\n",
       "      <td>front wheel drive</td>\n",
       "      <td>4.0</td>\n",
       "      <td>33700</td>\n",
       "      <td>1.960122</td>\n",
       "      <td>2.556680</td>\n",
       "    </tr>\n",
       "    <tr>\n",
       "      <th>9852</th>\n",
       "      <td>Kia</td>\n",
       "      <td>Soul EV</td>\n",
       "      <td>2016</td>\n",
       "      <td>electric</td>\n",
       "      <td>NaN</td>\n",
       "      <td>0.0</td>\n",
       "      <td>DIRECT_DRIVE</td>\n",
       "      <td>front wheel drive</td>\n",
       "      <td>4.0</td>\n",
       "      <td>33950</td>\n",
       "      <td>1.960122</td>\n",
       "      <td>2.556680</td>\n",
       "    </tr>\n",
       "    <tr>\n",
       "      <th>9853</th>\n",
       "      <td>Kia</td>\n",
       "      <td>Soul EV</td>\n",
       "      <td>2016</td>\n",
       "      <td>electric</td>\n",
       "      <td>NaN</td>\n",
       "      <td>0.0</td>\n",
       "      <td>DIRECT_DRIVE</td>\n",
       "      <td>front wheel drive</td>\n",
       "      <td>4.0</td>\n",
       "      <td>31950</td>\n",
       "      <td>1.960122</td>\n",
       "      <td>2.556680</td>\n",
       "    </tr>\n",
       "    <tr>\n",
       "      <th>9854</th>\n",
       "      <td>Kia</td>\n",
       "      <td>Soul EV</td>\n",
       "      <td>2016</td>\n",
       "      <td>electric</td>\n",
       "      <td>NaN</td>\n",
       "      <td>0.0</td>\n",
       "      <td>DIRECT_DRIVE</td>\n",
       "      <td>front wheel drive</td>\n",
       "      <td>4.0</td>\n",
       "      <td>35950</td>\n",
       "      <td>1.960122</td>\n",
       "      <td>2.556680</td>\n",
       "    </tr>\n",
       "    <tr>\n",
       "      <th>9867</th>\n",
       "      <td>Chevrolet</td>\n",
       "      <td>Spark EV</td>\n",
       "      <td>2014</td>\n",
       "      <td>electric</td>\n",
       "      <td>140.0</td>\n",
       "      <td>0.0</td>\n",
       "      <td>DIRECT_DRIVE</td>\n",
       "      <td>front wheel drive</td>\n",
       "      <td>4.0</td>\n",
       "      <td>26685</td>\n",
       "      <td>1.837614</td>\n",
       "      <td>2.157932</td>\n",
       "    </tr>\n",
       "    <tr>\n",
       "      <th>9868</th>\n",
       "      <td>Chevrolet</td>\n",
       "      <td>Spark EV</td>\n",
       "      <td>2014</td>\n",
       "      <td>electric</td>\n",
       "      <td>140.0</td>\n",
       "      <td>0.0</td>\n",
       "      <td>DIRECT_DRIVE</td>\n",
       "      <td>front wheel drive</td>\n",
       "      <td>4.0</td>\n",
       "      <td>27010</td>\n",
       "      <td>1.837614</td>\n",
       "      <td>2.157932</td>\n",
       "    </tr>\n",
       "    <tr>\n",
       "      <th>9869</th>\n",
       "      <td>Chevrolet</td>\n",
       "      <td>Spark EV</td>\n",
       "      <td>2015</td>\n",
       "      <td>electric</td>\n",
       "      <td>140.0</td>\n",
       "      <td>0.0</td>\n",
       "      <td>DIRECT_DRIVE</td>\n",
       "      <td>front wheel drive</td>\n",
       "      <td>4.0</td>\n",
       "      <td>25170</td>\n",
       "      <td>1.837614</td>\n",
       "      <td>2.157932</td>\n",
       "    </tr>\n",
       "    <tr>\n",
       "      <th>9870</th>\n",
       "      <td>Chevrolet</td>\n",
       "      <td>Spark EV</td>\n",
       "      <td>2015</td>\n",
       "      <td>electric</td>\n",
       "      <td>140.0</td>\n",
       "      <td>0.0</td>\n",
       "      <td>DIRECT_DRIVE</td>\n",
       "      <td>front wheel drive</td>\n",
       "      <td>4.0</td>\n",
       "      <td>25560</td>\n",
       "      <td>1.837614</td>\n",
       "      <td>2.157932</td>\n",
       "    </tr>\n",
       "    <tr>\n",
       "      <th>9871</th>\n",
       "      <td>Chevrolet</td>\n",
       "      <td>Spark EV</td>\n",
       "      <td>2016</td>\n",
       "      <td>electric</td>\n",
       "      <td>140.0</td>\n",
       "      <td>0.0</td>\n",
       "      <td>DIRECT_DRIVE</td>\n",
       "      <td>front wheel drive</td>\n",
       "      <td>4.0</td>\n",
       "      <td>25510</td>\n",
       "      <td>1.837614</td>\n",
       "      <td>2.157932</td>\n",
       "    </tr>\n",
       "    <tr>\n",
       "      <th>9872</th>\n",
       "      <td>Chevrolet</td>\n",
       "      <td>Spark EV</td>\n",
       "      <td>2016</td>\n",
       "      <td>electric</td>\n",
       "      <td>140.0</td>\n",
       "      <td>0.0</td>\n",
       "      <td>DIRECT_DRIVE</td>\n",
       "      <td>front wheel drive</td>\n",
       "      <td>4.0</td>\n",
       "      <td>25120</td>\n",
       "      <td>1.837614</td>\n",
       "      <td>2.157932</td>\n",
       "    </tr>\n",
       "  </tbody>\n",
       "</table>\n",
       "</div>"
      ],
      "text/plain": [
       "              Marke                  Modell  Year Treibstoff     PS  Zylinder  \\\n",
       "539            FIAT                    500e  2015   electric    NaN       0.0   \n",
       "540            FIAT                    500e  2016   electric    NaN       0.0   \n",
       "541            FIAT                    500e  2017   electric    NaN       0.0   \n",
       "1680  Mercedes-Benz  B-Class Electric Drive  2015   electric  177.0       0.0   \n",
       "1681  Mercedes-Benz  B-Class Electric Drive  2016   electric  177.0       0.0   \n",
       "1682  Mercedes-Benz  B-Class Electric Drive  2017   electric  177.0       0.0   \n",
       "1983      Chevrolet                 Bolt EV  2017   electric  200.0       NaN   \n",
       "1984      Chevrolet                 Bolt EV  2017   electric  200.0       NaN   \n",
       "3716     Volkswagen                  e-Golf  2015   electric  115.0       NaN   \n",
       "3717     Volkswagen                  e-Golf  2015   electric  115.0       NaN   \n",
       "3718     Volkswagen                  e-Golf  2016   electric  115.0       NaN   \n",
       "3719     Volkswagen                  e-Golf  2016   electric  115.0       NaN   \n",
       "4705          Honda                  Fit EV  2013   electric    NaN       0.0   \n",
       "4706          Honda                  Fit EV  2014   electric    NaN       0.0   \n",
       "4785           Ford                   Focus  2015   electric    NaN       0.0   \n",
       "4789           Ford                   Focus  2016   electric    NaN       0.0   \n",
       "4798           Ford                   Focus  2017   electric    NaN       0.0   \n",
       "5778     Mitsubishi                  i-MiEV  2014   electric    NaN       NaN   \n",
       "5779     Mitsubishi                  i-MiEV  2016   electric   66.0       NaN   \n",
       "5780     Mitsubishi                  i-MiEV  2017   electric   66.0       NaN   \n",
       "5790            BMW                      i3  2015   electric  170.0       0.0   \n",
       "5791            BMW                      i3  2016   electric  170.0       0.0   \n",
       "5792            BMW                      i3  2017   electric  170.0       0.0   \n",
       "5793            BMW                      i3  2017   electric  170.0       0.0   \n",
       "6385         Nissan                    Leaf  2014   electric    NaN       0.0   \n",
       "6386         Nissan                    Leaf  2014   electric    NaN       0.0   \n",
       "6387         Nissan                    Leaf  2014   electric    NaN       0.0   \n",
       "6388         Nissan                    Leaf  2015   electric    NaN       0.0   \n",
       "6389         Nissan                    Leaf  2015   electric    NaN       0.0   \n",
       "6390         Nissan                    Leaf  2015   electric    NaN       0.0   \n",
       "6391         Nissan                    Leaf  2015   electric    NaN       0.0   \n",
       "6392         Nissan                    Leaf  2016   electric    NaN       0.0   \n",
       "6393         Nissan                    Leaf  2016   electric    NaN       0.0   \n",
       "6394         Nissan                    Leaf  2016   electric    NaN       0.0   \n",
       "6921          Tesla                 Model S  2014   electric    NaN       0.0   \n",
       "6922          Tesla                 Model S  2014   electric    NaN       0.0   \n",
       "6923          Tesla                 Model S  2014   electric    NaN       0.0   \n",
       "6924          Tesla                 Model S  2014   electric    NaN       0.0   \n",
       "6925          Tesla                 Model S  2015   electric    NaN       0.0   \n",
       "6926          Tesla                 Model S  2015   electric    NaN       0.0   \n",
       "6927          Tesla                 Model S  2015   electric    NaN       0.0   \n",
       "6928          Tesla                 Model S  2015   electric    NaN       0.0   \n",
       "6929          Tesla                 Model S  2015   electric    NaN       0.0   \n",
       "6930          Tesla                 Model S  2016   electric    NaN       0.0   \n",
       "6931          Tesla                 Model S  2016   electric    NaN       0.0   \n",
       "6932          Tesla                 Model S  2016   electric    NaN       0.0   \n",
       "6933          Tesla                 Model S  2016   electric    NaN       0.0   \n",
       "6934          Tesla                 Model S  2016   electric    NaN       0.0   \n",
       "6935          Tesla                 Model S  2016   electric    NaN       0.0   \n",
       "6936          Tesla                 Model S  2016   electric    NaN       0.0   \n",
       "6937          Tesla                 Model S  2016   electric    NaN       0.0   \n",
       "6938          Tesla                 Model S  2016   electric    NaN       0.0   \n",
       "8373         Toyota                 RAV4 EV  2012   electric  154.0       NaN   \n",
       "8374         Toyota                 RAV4 EV  2013   electric    NaN       0.0   \n",
       "8375         Toyota                 RAV4 EV  2014   electric    NaN       0.0   \n",
       "9850            Kia                 Soul EV  2015   electric    NaN       0.0   \n",
       "9851            Kia                 Soul EV  2015   electric    NaN       0.0   \n",
       "9852            Kia                 Soul EV  2016   electric    NaN       0.0   \n",
       "9853            Kia                 Soul EV  2016   electric    NaN       0.0   \n",
       "9854            Kia                 Soul EV  2016   electric    NaN       0.0   \n",
       "9867      Chevrolet                Spark EV  2014   electric  140.0       0.0   \n",
       "9868      Chevrolet                Spark EV  2014   electric  140.0       0.0   \n",
       "9869      Chevrolet                Spark EV  2015   electric  140.0       0.0   \n",
       "9870      Chevrolet                Spark EV  2015   electric  140.0       0.0   \n",
       "9871      Chevrolet                Spark EV  2016   electric  140.0       0.0   \n",
       "9872      Chevrolet                Spark EV  2016   electric  140.0       0.0   \n",
       "\n",
       "         Schaltung            Antrieb  Tueren   Preis  Verbrauch Innerorts  \\\n",
       "539   DIRECT_DRIVE  front wheel drive     2.0   31800             1.927988   \n",
       "540   DIRECT_DRIVE  front wheel drive     2.0   31800             1.943922   \n",
       "541   DIRECT_DRIVE  front wheel drive     2.0   31800             1.943922   \n",
       "1680  DIRECT_DRIVE  front wheel drive     4.0   41450             2.767230   \n",
       "1681  DIRECT_DRIVE  front wheel drive     4.0   41450             2.767230   \n",
       "1682  DIRECT_DRIVE  front wheel drive     4.0   39900             2.767230   \n",
       "1983  DIRECT_DRIVE  front wheel drive     4.0   40905             1.837614   \n",
       "1984  DIRECT_DRIVE  front wheel drive     4.0   36620             1.837614   \n",
       "3716  DIRECT_DRIVE  front wheel drive     4.0   33450             1.866782   \n",
       "3717  DIRECT_DRIVE  front wheel drive     4.0   35445             1.866782   \n",
       "3718  DIRECT_DRIVE  front wheel drive     4.0   28995             1.866782   \n",
       "3719  DIRECT_DRIVE  front wheel drive     4.0   35595             1.866782   \n",
       "4705  DIRECT_DRIVE  front wheel drive     4.0   36625             1.781929   \n",
       "4706  DIRECT_DRIVE  front wheel drive     4.0   36625             1.781929   \n",
       "4785  DIRECT_DRIVE  front wheel drive     4.0   29170             2.138314   \n",
       "4789  DIRECT_DRIVE  front wheel drive     4.0   29170             2.138314   \n",
       "4798  DIRECT_DRIVE  front wheel drive     4.0   29120             2.138314   \n",
       "5778  DIRECT_DRIVE   rear wheel drive     4.0   22995             1.866782   \n",
       "5779  DIRECT_DRIVE   rear wheel drive     4.0   22995             1.866782   \n",
       "5780  DIRECT_DRIVE   rear wheel drive     4.0   22995             1.943922   \n",
       "5790  DIRECT_DRIVE   rear wheel drive     4.0   42400             1.716895   \n",
       "5791  DIRECT_DRIVE   rear wheel drive     4.0   42400             1.716895   \n",
       "5792  DIRECT_DRIVE   rear wheel drive     4.0   42400             1.716895   \n",
       "5793  DIRECT_DRIVE   rear wheel drive     4.0   43600             1.823369   \n",
       "6385  DIRECT_DRIVE  front wheel drive     4.0   35020             1.866782   \n",
       "6386  DIRECT_DRIVE  front wheel drive     4.0   32000             1.866782   \n",
       "6387  DIRECT_DRIVE  front wheel drive     4.0   28980             1.866782   \n",
       "6388  DIRECT_DRIVE  front wheel drive     4.0   32100             1.866782   \n",
       "6389  DIRECT_DRIVE  front wheel drive     4.0   35120             1.866782   \n",
       "6390  DIRECT_DRIVE  front wheel drive     4.0   29010             1.866782   \n",
       "6391  DIRECT_DRIVE  front wheel drive     4.0   32000             1.866782   \n",
       "6392  DIRECT_DRIVE  front wheel drive     4.0   29010             1.866782   \n",
       "6393  DIRECT_DRIVE  front wheel drive     4.0   34200             1.896892   \n",
       "6394  DIRECT_DRIVE  front wheel drive     4.0   36790             1.896892   \n",
       "6921  DIRECT_DRIVE   rear wheel drive     4.0   79900             2.672893   \n",
       "6922  DIRECT_DRIVE   rear wheel drive     4.0   69900             2.502283   \n",
       "6923  DIRECT_DRIVE    all wheel drive     4.0  104500             2.735053   \n",
       "6924  DIRECT_DRIVE   rear wheel drive     4.0   93400             2.672893   \n",
       "6925  DIRECT_DRIVE   rear wheel drive     4.0   69900             2.502283   \n",
       "6926  DIRECT_DRIVE    all wheel drive     4.0   75000             2.328857   \n",
       "6927  DIRECT_DRIVE    all wheel drive     4.0   85000             2.475943   \n",
       "6928  DIRECT_DRIVE    all wheel drive     4.0  105000             2.642860   \n",
       "6929  DIRECT_DRIVE   rear wheel drive     4.0   80000             2.672893   \n",
       "6930  DIRECT_DRIVE    all wheel drive     NaN   79500             2.306025   \n",
       "6931  DIRECT_DRIVE    all wheel drive     NaN   66000             2.400149   \n",
       "6932  DIRECT_DRIVE    all wheel drive     NaN  134500             2.556680   \n",
       "6933  DIRECT_DRIVE   rear wheel drive     NaN   74500             2.424893   \n",
       "6934  DIRECT_DRIVE    all wheel drive     NaN   71000             2.328857   \n",
       "6935  DIRECT_DRIVE    all wheel drive     4.0   75000             2.328857   \n",
       "6936  DIRECT_DRIVE    all wheel drive     4.0   89500             2.328857   \n",
       "6937  DIRECT_DRIVE    all wheel drive     4.0  112000             2.584776   \n",
       "6938  DIRECT_DRIVE   rear wheel drive     4.0   70000             2.672893   \n",
       "8373  DIRECT_DRIVE  front wheel drive     4.0   49800             3.015572   \n",
       "8374  DIRECT_DRIVE  front wheel drive     4.0   49800             3.015572   \n",
       "8375  DIRECT_DRIVE  front wheel drive     4.0   49800             3.015572   \n",
       "9850  DIRECT_DRIVE  front wheel drive     4.0   35700             1.960122   \n",
       "9851  DIRECT_DRIVE  front wheel drive     4.0   33700             1.960122   \n",
       "9852  DIRECT_DRIVE  front wheel drive     4.0   33950             1.960122   \n",
       "9853  DIRECT_DRIVE  front wheel drive     4.0   31950             1.960122   \n",
       "9854  DIRECT_DRIVE  front wheel drive     4.0   35950             1.960122   \n",
       "9867  DIRECT_DRIVE  front wheel drive     4.0   26685             1.837614   \n",
       "9868  DIRECT_DRIVE  front wheel drive     4.0   27010             1.837614   \n",
       "9869  DIRECT_DRIVE  front wheel drive     4.0   25170             1.837614   \n",
       "9870  DIRECT_DRIVE  front wheel drive     4.0   25560             1.837614   \n",
       "9871  DIRECT_DRIVE  front wheel drive     4.0   25510             1.837614   \n",
       "9872  DIRECT_DRIVE  front wheel drive     4.0   25120             1.837614   \n",
       "\n",
       "      Verbrauch Ausserorts  \n",
       "539               2.177913  \n",
       "540               2.283637  \n",
       "541               2.283637  \n",
       "1680              2.868471  \n",
       "1681              2.868471  \n",
       "1682              2.868471  \n",
       "1983              2.138314  \n",
       "1984              2.138314  \n",
       "3716              2.240139  \n",
       "3717              2.240139  \n",
       "3718              2.240139  \n",
       "3719              2.240139  \n",
       "4705              2.240139  \n",
       "4706              2.240139  \n",
       "4785              2.375905  \n",
       "4789              2.375905  \n",
       "4798              2.375905  \n",
       "5778              2.375905  \n",
       "5779              2.375905  \n",
       "5780              2.306025  \n",
       "5790              2.119050  \n",
       "5791              2.119050  \n",
       "5792              2.119050  \n",
       "5793              2.219006  \n",
       "6385              2.328857  \n",
       "6386              2.328857  \n",
       "6387              2.328857  \n",
       "6388              2.328857  \n",
       "6389              2.328857  \n",
       "6390              2.328857  \n",
       "6391              2.328857  \n",
       "6392              2.328857  \n",
       "6393              2.328857  \n",
       "6394              2.328857  \n",
       "6921              2.613495  \n",
       "6922              2.424893  \n",
       "6923              2.502283  \n",
       "6924              2.613495  \n",
       "6925              2.424893  \n",
       "6926              2.306025  \n",
       "6927              2.219006  \n",
       "6928              2.400149  \n",
       "6929              2.613495  \n",
       "6930              2.240139  \n",
       "6931              2.328857  \n",
       "6932              2.240139  \n",
       "6933              2.352146  \n",
       "6934              2.198267  \n",
       "6935              2.306025  \n",
       "6936              2.198267  \n",
       "6937              2.352146  \n",
       "6938              2.613495  \n",
       "8373              3.178575  \n",
       "8374              3.178575  \n",
       "8375              3.178575  \n",
       "9850              2.556680  \n",
       "9851              2.556680  \n",
       "9852              2.556680  \n",
       "9853              2.556680  \n",
       "9854              2.556680  \n",
       "9867              2.157932  \n",
       "9868              2.157932  \n",
       "9869              2.157932  \n",
       "9870              2.157932  \n",
       "9871              2.157932  \n",
       "9872              2.157932  "
      ]
     },
     "execution_count": 27,
     "metadata": {},
     "output_type": "execute_result"
    }
   ],
   "source": [
    "car_df[ car_df['Treibstoff']=='electric' ]"
   ]
  },
  {
   "cell_type": "markdown",
   "metadata": {},
   "source": [
    "***Frage***: Betrachten Sie die Tabelle genau, insbesondere die Spalte mit der Anzahl `Zylinder`. Finden Sie damit eine Antwort auf die Beobachtung weiter oben zu den Elektroautos?"
   ]
  },
  {
   "cell_type": "markdown",
   "metadata": {},
   "source": [
    "***==> Antwort***: Wir sehen, dass bei den Elektroautos die Anzahl Zylinder entweder 0 oder NaN ist. Nachzählen ergibt, dass es 56 Elektroautos gibt mit 0.0 Zylindern. Das hatten wir mit dem Befehl `car_df.groupby(['Treibstoff', 'Zylinder']).size()` schon gesehen. Bei den restlichen 10 Elektroautos ist die Anzahl Zylinder mit `NaN` angegeben. Wir sehen also: **NaN-Werte werden bei einer Gruppierung gelöscht!!**\n",
    "\n",
    "**<==**"
   ]
  },
  {
   "cell_type": "markdown",
   "metadata": {},
   "source": [
    "## 5. Ausreisser\n",
    "Wir haben im oberen Abschnitt gesehen, dass Angaben nicht vorhanden sein können (`NaN`), oder das dafür ein spezieller Wert verwendet wird --- 0 Zylinder machen bei einem herkömmlichen Auto (mit Benzin- oder Dieselmotor) keinen Sinn!\n",
    "\n",
    "Wichtig ist auch, dass wir sogenannte Ausreisser feststellen können: Werte, die aussergewöhnlich hoch oder aussergewöhnlich tief sind. In unserem Beispiel sind das beispielsweise sehr teure und sehr stark motorisierte Sportwagen. Auch hier werfen wir einen Blick auf die Daten:"
   ]
  },
  {
   "cell_type": "markdown",
   "metadata": {},
   "source": [
    "### Minimum und Maximum"
   ]
  },
  {
   "cell_type": "code",
   "execution_count": 28,
   "metadata": {},
   "outputs": [
    {
     "data": {
      "text/plain": [
       "2000"
      ]
     },
     "execution_count": 28,
     "metadata": {},
     "output_type": "execute_result"
    }
   ],
   "source": [
    "np.min(car_df['Preis'])"
   ]
  },
  {
   "cell_type": "code",
   "execution_count": 29,
   "metadata": {},
   "outputs": [
    {
     "data": {
      "text/plain": [
       "2065902"
      ]
     },
     "execution_count": 29,
     "metadata": {},
     "output_type": "execute_result"
    }
   ],
   "source": [
    "np.max(car_df['Preis'])"
   ]
  },
  {
   "cell_type": "markdown",
   "metadata": {},
   "source": [
    "Wir haben hier also eine riesige Spannweite: In den Daten sind Autos von 2000 bis über 2 Millionen Dollar beschrieben!"
   ]
  },
  {
   "cell_type": "markdown",
   "metadata": {},
   "source": [
    "### Perzentile\n",
    "Ein weiterer guter Indikator sind die Perzentile: Das x%-Perzentil des Preises gibt an, unter welchem Preis x% der Autos liegen."
   ]
  },
  {
   "cell_type": "code",
   "execution_count": 30,
   "metadata": {},
   "outputs": [
    {
     "data": {
      "text/plain": [
       "30850.0"
      ]
     },
     "execution_count": 30,
     "metadata": {},
     "output_type": "execute_result"
    }
   ],
   "source": [
    "np.percentile(car_df['Preis'], 50)"
   ]
  },
  {
   "cell_type": "markdown",
   "metadata": {},
   "source": [
    "Die Hälfte der Autos kosten also weniger als 30850 $, die Hälfte mehr. Wir berechnen noch einige weitere Perzentile:"
   ]
  },
  {
   "cell_type": "code",
   "execution_count": 31,
   "metadata": {},
   "outputs": [
    {
     "data": {
      "text/plain": [
       "array([  2000. ,   3204.6,  21835. ,  43247.5,  67204. , 113400. ])"
      ]
     },
     "execution_count": 31,
     "metadata": {},
     "output_type": "execute_result"
    }
   ],
   "source": [
    "np.percentile(car_df['Preis'], [ 5, 10, 25, 75, 90, 95 ])"
   ]
  },
  {
   "cell_type": "markdown",
   "metadata": {},
   "source": [
    "Wir sehen hier:\n",
    "* Das 25%-Perzentil -- es wird auch **erstes Quartil** genannt -- der Autopreise beträgt 21\\'835US\\\\$. Das günstigste Viertel der Autos kostet also weniger als 21\\'835US\\\\$.\n",
    "* Das 75%-Perzentil, oder **drittes Quartil** der Autopreise 43\\'247.50; drei Viertel aller Autos in unserer Tabelle kosten also maximal soviel.\n",
    "* Die \"mittlere Hälfte\" der Autos haben also einen Preis zwischen  21\\'835US\\\\$ und 43\\'247.50US\\\\$.\n",
    "* Die **inter-Quartils-Differenz** (IQD) beträgt 43\\'247.50US\\\\$-21\\'835US\\\\$ = 21\\'412.5US\\\\$. Die IQD ist ein wichtiges Mass für die **Streuung** in den mittleren Bereichen.\n",
    "* Nach oben scheinen die Preise offen: Das 95%-Perzentil beträgt 113\\'400. Die 5% teuersten Autos kosten also alle mehr als dieser Betrag."
   ]
  },
  {
   "cell_type": "markdown",
   "metadata": {},
   "source": [
    "***Frage***: Wie viel kosten die 1% teuersten Fahrzeuge in unserem Datensatz mindestens? Berechnen Sie diesen Wert, und kommentieren Sie das Ergebnis."
   ]
  },
  {
   "cell_type": "markdown",
   "metadata": {},
   "source": [
    "***Antwort***: Die 1% teuersten Fahrzeuge sind gesucht - das heisst, wir suchen den Preis, bei dem 99% der Fahrzeuge darunter liegen. Dieser Wert ist das 99%-Perzentil."
   ]
  },
  {
   "cell_type": "code",
   "execution_count": 32,
   "metadata": {},
   "outputs": [
    {
     "data": {
      "text/plain": [
       "290469.0000000002"
      ]
     },
     "execution_count": 32,
     "metadata": {},
     "output_type": "execute_result"
    }
   ],
   "source": [
    "np.percentile(car_df['Preis'], 99)"
   ]
  },
  {
   "cell_type": "markdown",
   "metadata": {},
   "source": [
    "Die 1% teuersten Autos kosten alle über 290\\'469 US\\\\$. Wir sehen weiter, dass die Preise dieser sehr teuren Autos sehr weit auseinander liegen - wir hatten ja gesehen, dass die 50\\% Autos im preislichen Mittelfeld (25\\% bis 75\\%-Perzentil) zwischen 21835. und 43247.5 US\\$ kosten, also eine Spannbreite von knapp 22'000US\\\\$. Hingegen sind die 4\\% Autos zwischen dem 95\\%- und dem 99\\%-Perzentil über eine Preisspanne von über 175'000US\\\\$ verstreut!"
   ]
  },
  {
   "cell_type": "markdown",
   "metadata": {},
   "source": [
    "## 6. Erste Visualisierungen\n",
    "Als nächstes wollen wir einige Plots aus den Daten erzeugen. Wir werden hier einige Arten von Graphiken kennenlernen:"
   ]
  },
  {
   "cell_type": "markdown",
   "metadata": {},
   "source": [
    "### Boxplot\n",
    "Boxplots sind eine Möglichkeit, die Verteilung der Daten und einige der Statistiken, die wir oben gemacht berechnet haben, anschaulich darzustellen. Lesen Sie dazu den Wikipedia-Artikel: https://de.wikipedia.org/wiki/Box-Plot\n",
    "        \n",
    "***Beachten Sie***: Boxplots können unterschiedlich parametrisiert werden, insbesondere was die Position der Whisker angeht. "
   ]
  },
  {
   "cell_type": "code",
   "execution_count": 33,
   "metadata": {},
   "outputs": [
    {
     "data": {
      "text/plain": [
       "{'whiskers': [<matplotlib.lines.Line2D at 0x1c11529cfc8>,\n",
       "  <matplotlib.lines.Line2D at 0x1c1152a0d08>],\n",
       " 'caps': [<matplotlib.lines.Line2D at 0x1c1152a0608>,\n",
       "  <matplotlib.lines.Line2D at 0x1c1152a0748>],\n",
       " 'boxes': [<matplotlib.lines.Line2D at 0x1c113af8248>],\n",
       " 'medians': [<matplotlib.lines.Line2D at 0x1c115286f88>],\n",
       " 'fliers': [<matplotlib.lines.Line2D at 0x1c11529c348>],\n",
       " 'means': []}"
      ]
     },
     "execution_count": 33,
     "metadata": {},
     "output_type": "execute_result"
    },
    {
     "data": {
      "image/png": "[encoded data removed]",
      "text/plain": [
       "<Figure size 1080x576 with 1 Axes>"
      ]
     },
     "metadata": {},
     "output_type": "display_data"
    }
   ],
   "source": [
    "fig, main_ax = plt.subplots(figsize=(15,8))\n",
    "main_ax.boxplot(car_df['Preis'], vert=False)"
   ]
  },
  {
   "cell_type": "markdown",
   "metadata": {},
   "source": [
    "Die weniger Ausreisser (sehr teure Autos) beeinflussen hier die Darstellung: die x-Achse wird standardmässig so eingestellt, dass alle Werte dargestellt werden können. Deshalb wird der Preisbereich, der für die meisten Autokäufer relevant ist, sehr stark \"zusammengedrückt\". \n",
    "    \n",
    "Mit der Methode (eine Methode der Klasse Achse) `main_ax.set_xlim(0, 250000)` können wir den Wertebereich auf der x-Achse manuell festlegen, z.B. auf den Bereich 0 bis 250\\'000:"
   ]
  },
  {
   "cell_type": "code",
   "execution_count": 34,
   "metadata": {},
   "outputs": [
    {
     "data": {
      "text/plain": [
       "(0.0, 250000.0)"
      ]
     },
     "execution_count": 34,
     "metadata": {},
     "output_type": "execute_result"
    },
    {
     "data": {
      "image/png": "[encoded data removed]",
      "text/plain": [
       "<Figure size 1080x576 with 1 Axes>"
      ]
     },
     "metadata": {},
     "output_type": "display_data"
    }
   ],
   "source": [
    "fig, main_ax = plt.subplots(figsize=(15,8))\n",
    "main_ax.boxplot(car_df['Preis'], vert=False)\n",
    "main_ax.set_xlim(0, 250000)"
   ]
  },
  {
   "cell_type": "markdown",
   "metadata": {},
   "source": [
    "### Säulendiagramm (Bar Plot)\n",
    "Ein Säulendiagramm eignet sich gut, um die Häufigkeit diskreter Werte darzustellen:"
   ]
  },
  {
   "cell_type": "code",
   "execution_count": 35,
   "metadata": {},
   "outputs": [
    {
     "data": {
      "image/png": "[encoded data removed]",
      "text/plain": [
       "<Figure size 1080x576 with 1 Axes>"
      ]
     },
     "metadata": {},
     "output_type": "display_data"
    }
   ],
   "source": [
    "car_df['Marke'].value_counts().nlargest(40).plot(kind='bar', figsize=(15,8))\n",
    "plt.title('Anzahl Autos pro Marke')\n",
    "plt.ylabel('Anzahl Autos')\n",
    "plt.xlabel('Marke');"
   ]
  },
  {
   "cell_type": "markdown",
   "metadata": {},
   "source": [
    "### Histogram\n",
    "Ein Histogram sieht ähnlich aus wie ein Säulendiagramm. Die Basis für ein Historgram sind aber **kontinuierliche** Daten; diese werden vor dem Erzeugen der Graphik in Wertebereiche (Intervalle) unterteilt und danach die Anzahl Datensätze pro Wertebereich gezeichnet."
   ]
  },
  {
   "cell_type": "code",
   "execution_count": 36,
   "metadata": {
    "scrolled": false
   },
   "outputs": [
    {
     "data": {
      "text/plain": [
       "Text(0.5, 1.0, 'Anzahl Autos pro Preisklasse')"
      ]
     },
     "execution_count": 36,
     "metadata": {},
     "output_type": "execute_result"
    },
    {
     "data": {
      "image/png": "[encoded data removed]",
      "text/plain": [
       "<Figure size 1080x576 with 1 Axes>"
      ]
     },
     "metadata": {},
     "output_type": "display_data"
    }
   ],
   "source": [
    "plt.subplots(figsize=(15,8))\n",
    "plt.hist(x=car_df['Preis'])\n",
    "plt.grid(axis='y', alpha=0.75)\n",
    "plt.xlabel('Preis')\n",
    "plt.ylabel('Anzahl Autos')\n",
    "plt.title('Anzahl Autos pro Preisklasse')"
   ]
  },
  {
   "cell_type": "markdown",
   "metadata": {},
   "source": [
    "Python (bzw. die hier verwendete Bibliothek `matplotlib`) wählt die x- und y-Achsen so aus, dass alle Werte angezeigt werden können. Weil in unseren Daten einige sehr teure Autos vorkommen führt das dazu, dass die allermeisten Autos in der gleichen Kategorie landen. Wir werden deshalb die Graphik nochmals machen, dabei aber nur die Autos mit einem Preis unter 250\\'000 $ betrachten, und die Preise in 25 (gleichabständig) Bänder unterteilen:"
   ]
  },
  {
   "cell_type": "code",
   "execution_count": 37,
   "metadata": {},
   "outputs": [
    {
     "data": {
      "text/plain": [
       "Text(0.5, 1.0, 'Anzahl Autos pro Preisklasse')"
      ]
     },
     "execution_count": 37,
     "metadata": {},
     "output_type": "execute_result"
    },
    {
     "data": {
      "image/png": "[encoded data removed]",
      "text/plain": [
       "<Figure size 1080x576 with 1 Axes>"
      ]
     },
     "metadata": {},
     "output_type": "display_data"
    }
   ],
   "source": [
    "plt.subplots(figsize=(15,8))\n",
    "plt.hist(x=car_df['Preis'][ car_df['Preis']<250000 ], bins=25)\n",
    "plt.grid(axis='y', alpha=0.75)\n",
    "plt.xlabel('Preis')\n",
    "plt.ylabel('Anzahl Autos')\n",
    "plt.title('Anzahl Autos pro Preisklasse')"
   ]
  },
  {
   "cell_type": "markdown",
   "metadata": {},
   "source": [
    "### Korrelation und Heatmaps\n",
    "Die Korrelation ist ein statistisches Mass, welches den Zusammenhang zwischen zwei Variablen misst. Die Korrelation nimmt Werte zwischen -1 und +1 ein.\n",
    "* **Eine Korrelation von +1 zwischen zwei Variablen bedeutet, dass sich die Werte der beiden Variablen genau gleich entwickeln**: *'Je mehr x, desto mehr y'*. Also zum Beispiel: Je weiter Sie fahren (in km, auf ebener Strecke), desto mehr Benzin verbrauchen Sie.\n",
    "* **Eine Korrelation von -1 zwischen zwei Variablen bedeutet, dass sich die Werte der beiden Variablen genau entgegengesetzt entwickeln**: *'Je mehr x, desto weniger y'*. Also zum Beispiel: Je weiter Sie (nach einer Volltankung) fahren, desto weniger Benzin ist noch im Tank (bis sie dann das nächste Mal Tanken).\n",
    "* **Eine Korrelation von 0 zwischen zwei Variablen bedeutet, dass sich die Werte der beiden Variablen unabhängig voneinander entwickelt.** Also zum Beispiel: Der Benzinverbrauch eines Autos ist unkorreliert mit der Haarlänge des Fahrers.\n",
    "* Die Werte zwischen -1 und 0 bzw. zwischen 0 und 1 geben an, wie gross die Korrelation ist. "
   ]
  },
  {
   "cell_type": "markdown",
   "metadata": {},
   "source": [
    "Wir betrachten die Korrelation konkret am Beispiel unserer Auto-Angaben. Wir können dazu die Funktion `corr()` verwenden, welche die Korrelation für alle Kombinationen von numerischen Variablen berechnet. Betrachten Sie ggf. nochmals die Datentypen der einzelnen Attribute in unserem Data Frame:"
   ]
  },
  {
   "cell_type": "code",
   "execution_count": 38,
   "metadata": {},
   "outputs": [
    {
     "name": "stdout",
     "output_type": "stream",
     "text": [
      "<class 'pandas.core.frame.DataFrame'>\n",
      "Int64Index: 11099 entries, 0 to 11913\n",
      "Data columns (total 12 columns):\n",
      " #   Column                Non-Null Count  Dtype  \n",
      "---  ------                --------------  -----  \n",
      " 0   Marke                 11099 non-null  object \n",
      " 1   Modell                11099 non-null  object \n",
      " 2   Year                  11099 non-null  int64  \n",
      " 3   Treibstoff            11096 non-null  object \n",
      " 4   PS                    11030 non-null  float64\n",
      " 5   Zylinder              11069 non-null  float64\n",
      " 6   Schaltung             11099 non-null  object \n",
      " 7   Antrieb               11099 non-null  object \n",
      " 8   Tueren                11093 non-null  float64\n",
      " 9   Preis                 11099 non-null  int64  \n",
      " 10  Verbrauch Innerorts   11099 non-null  float64\n",
      " 11  Verbrauch Ausserorts  11099 non-null  float64\n",
      "dtypes: float64(5), int64(2), object(5)\n",
      "memory usage: 1.1+ MB\n"
     ]
    }
   ],
   "source": [
    "car_df.info()"
   ]
  },
  {
   "cell_type": "code",
   "execution_count": 39,
   "metadata": {},
   "outputs": [
    {
     "data": {
      "text/html": [
       "<div>\n",
       "<style scoped>\n",
       "    .dataframe tbody tr th:only-of-type {\n",
       "        vertical-align: middle;\n",
       "    }\n",
       "\n",
       "    .dataframe tbody tr th {\n",
       "        vertical-align: top;\n",
       "    }\n",
       "\n",
       "    .dataframe thead th {\n",
       "        text-align: right;\n",
       "    }\n",
       "</style>\n",
       "<table border=\"1\" class=\"dataframe\">\n",
       "  <thead>\n",
       "    <tr style=\"text-align: right;\">\n",
       "      <th></th>\n",
       "      <th>Year</th>\n",
       "      <th>PS</th>\n",
       "      <th>Zylinder</th>\n",
       "      <th>Tueren</th>\n",
       "      <th>Preis</th>\n",
       "      <th>Verbrauch Innerorts</th>\n",
       "      <th>Verbrauch Ausserorts</th>\n",
       "    </tr>\n",
       "  </thead>\n",
       "  <tbody>\n",
       "    <tr>\n",
       "      <th>Year</th>\n",
       "      <td>1.000000</td>\n",
       "      <td>0.329905</td>\n",
       "      <td>-0.038409</td>\n",
       "      <td>0.247977</td>\n",
       "      <td>0.203699</td>\n",
       "      <td>-0.258165</td>\n",
       "      <td>-0.313982</td>\n",
       "    </tr>\n",
       "    <tr>\n",
       "      <th>PS</th>\n",
       "      <td>0.329905</td>\n",
       "      <td>1.000000</td>\n",
       "      <td>0.790085</td>\n",
       "      <td>-0.131888</td>\n",
       "      <td>0.658283</td>\n",
       "      <td>0.609651</td>\n",
       "      <td>0.479850</td>\n",
       "    </tr>\n",
       "    <tr>\n",
       "      <th>Zylinder</th>\n",
       "      <td>-0.038409</td>\n",
       "      <td>0.790085</td>\n",
       "      <td>1.000000</td>\n",
       "      <td>-0.150594</td>\n",
       "      <td>0.539501</td>\n",
       "      <td>0.821658</td>\n",
       "      <td>0.733206</td>\n",
       "    </tr>\n",
       "    <tr>\n",
       "      <th>Tueren</th>\n",
       "      <td>0.247977</td>\n",
       "      <td>-0.131888</td>\n",
       "      <td>-0.150594</td>\n",
       "      <td>1.000000</td>\n",
       "      <td>-0.146560</td>\n",
       "      <td>-0.184114</td>\n",
       "      <td>-0.144648</td>\n",
       "    </tr>\n",
       "    <tr>\n",
       "      <th>Preis</th>\n",
       "      <td>0.203699</td>\n",
       "      <td>0.658283</td>\n",
       "      <td>0.539501</td>\n",
       "      <td>-0.146560</td>\n",
       "      <td>1.000000</td>\n",
       "      <td>0.402688</td>\n",
       "      <td>0.287259</td>\n",
       "    </tr>\n",
       "    <tr>\n",
       "      <th>Verbrauch Innerorts</th>\n",
       "      <td>-0.258165</td>\n",
       "      <td>0.609651</td>\n",
       "      <td>0.821658</td>\n",
       "      <td>-0.184114</td>\n",
       "      <td>0.402688</td>\n",
       "      <td>1.000000</td>\n",
       "      <td>0.943558</td>\n",
       "    </tr>\n",
       "    <tr>\n",
       "      <th>Verbrauch Ausserorts</th>\n",
       "      <td>-0.313982</td>\n",
       "      <td>0.479850</td>\n",
       "      <td>0.733206</td>\n",
       "      <td>-0.144648</td>\n",
       "      <td>0.287259</td>\n",
       "      <td>0.943558</td>\n",
       "      <td>1.000000</td>\n",
       "    </tr>\n",
       "  </tbody>\n",
       "</table>\n",
       "</div>"
      ],
      "text/plain": [
       "                          Year        PS  Zylinder    Tueren     Preis  \\\n",
       "Year                  1.000000  0.329905 -0.038409  0.247977  0.203699   \n",
       "PS                    0.329905  1.000000  0.790085 -0.131888  0.658283   \n",
       "Zylinder             -0.038409  0.790085  1.000000 -0.150594  0.539501   \n",
       "Tueren                0.247977 -0.131888 -0.150594  1.000000 -0.146560   \n",
       "Preis                 0.203699  0.658283  0.539501 -0.146560  1.000000   \n",
       "Verbrauch Innerorts  -0.258165  0.609651  0.821658 -0.184114  0.402688   \n",
       "Verbrauch Ausserorts -0.313982  0.479850  0.733206 -0.144648  0.287259   \n",
       "\n",
       "                      Verbrauch Innerorts  Verbrauch Ausserorts  \n",
       "Year                            -0.258165             -0.313982  \n",
       "PS                               0.609651              0.479850  \n",
       "Zylinder                         0.821658              0.733206  \n",
       "Tueren                          -0.184114             -0.144648  \n",
       "Preis                            0.402688              0.287259  \n",
       "Verbrauch Innerorts              1.000000              0.943558  \n",
       "Verbrauch Ausserorts             0.943558              1.000000  "
      ]
     },
     "execution_count": 39,
     "metadata": {},
     "output_type": "execute_result"
    }
   ],
   "source": [
    "c = car_df.corr()\n",
    "c"
   ]
  },
  {
   "cell_type": "markdown",
   "metadata": {},
   "source": [
    "Wir können die Korrelation auch als Heatmap darstellen:"
   ]
  },
  {
   "cell_type": "code",
   "execution_count": 40,
   "metadata": {},
   "outputs": [
    {
     "data": {
      "text/plain": [
       "Text(0.5, 1.0, 'Heatmap der Korrelationen - alle Autos')"
      ]
     },
     "execution_count": 40,
     "metadata": {},
     "output_type": "execute_result"
    },
    {
     "data": {
      "image/png": "[encoded data removed]",
      "text/plain": [
       "<Figure size 1080x576 with 2 Axes>"
      ]
     },
     "metadata": {},
     "output_type": "display_data"
    }
   ],
   "source": [
    "plt.figure(figsize=(15,8))\n",
    "sns.heatmap(c, cmap='plasma', vmin=-1, vmax=1, annot=True)\n",
    "plt.gca().set_title('Heatmap der Korrelationen - alle Autos')"
   ]
  },
  {
   "cell_type": "markdown",
   "metadata": {},
   "source": [
    "Wir erinnern uns, dass wir weiter oben Ausreisser behandelt hatten - es gibt ja einige Autos, die zum Beispiel extrem teuer sind. In der Auswertung oben haben wir alle Autos berücksichtigt. Wir machen die gleiche Analyse nochmals, allerdings eingeschränkt auf **Autos mit einem Preis unter 50\\'000$**:"
   ]
  },
  {
   "cell_type": "code",
   "execution_count": 41,
   "metadata": {
    "scrolled": false
   },
   "outputs": [
    {
     "data": {
      "text/plain": [
       "Text(0.5, 1.0, \"Heatmap der Korrelationen - Autos mit Preis unter 50'000$\")"
      ]
     },
     "execution_count": 41,
     "metadata": {},
     "output_type": "execute_result"
    },
    {
     "data": {
      "image/png": "[encoded data removed]",
      "text/plain": [
       "<Figure size 1080x576 with 2 Axes>"
      ]
     },
     "metadata": {},
     "output_type": "display_data"
    }
   ],
   "source": [
    "plt.figure(figsize=(15,8))\n",
    "c_normal = car_df[ car_df['Preis']<50000 ].corr()\n",
    "sns.heatmap(c_normal, cmap='plasma', vmin=-1, vmax=1, annot=True)\n",
    "plt.gca().set_title('Heatmap der Korrelationen - Autos mit Preis unter 50\\'000$')"
   ]
  },
  {
   "cell_type": "markdown",
   "metadata": {},
   "source": [
    "***Frage***: Wie sehen die Zusammenhänge für sehr teure Autos (Preis über 250\\'000US\\\\$) aus? Erstellen Sie eine zweite Graphik, in dem Sie den Code oben anpassen. Was beobachten Sie? Wo gibt es die grössten Unterschiede?"
   ]
  },
  {
   "cell_type": "markdown",
   "metadata": {},
   "source": [
    "***==> Antwort***: Mit dem Code unten kann die gleiche Heatmap für Autos mit einem Preis über 250'000$ erstellt werden."
   ]
  },
  {
   "cell_type": "code",
   "execution_count": 42,
   "metadata": {
    "scrolled": false
   },
   "outputs": [
    {
     "data": {
      "text/plain": [
       "Text(0.5, 1.0, \"Heatmap der Korrelationen - Autos mit Preis über 250'000$\")"
      ]
     },
     "execution_count": 42,
     "metadata": {},
     "output_type": "execute_result"
    },
    {
     "data": {
      "image/png": "[encoded data removed]",
      "text/plain": [
       "<Figure size 1080x576 with 2 Axes>"
      ]
     },
     "metadata": {},
     "output_type": "display_data"
    }
   ],
   "source": [
    "plt.figure(figsize=(15,8))\n",
    "c_teuer = car_df[ car_df['Preis']>250000 ].corr()\n",
    "sns.heatmap(c_teuer, cmap='plasma', vmin=-1, vmax=1, annot=True)\n",
    "plt.gca().set_title('Heatmap der Korrelationen - Autos mit Preis über 250\\'000$')"
   ]
  },
  {
   "cell_type": "markdown",
   "metadata": {},
   "source": [
    "***Interpretation***: Es gibt diverse Korrelationen, die sich zwischen den beiden Preisklassen stark ändern, unter anderem:\n",
    "\n",
    "* `Year` und `Preis` haben bei den günstigeren Autos eine starke Korrelation von +0.72, bei den sehr teuren Autos hingegen gibt es so gut wie keinen Zusammenhang (-0.08). Günstige Autos wurden also über die Jahre teurer, bei den sehr teuren sind die Preise (insgesamt!) nicht linear abhängig vom Jahr.\n",
    "* Die Verbrauchswerte (`Verbrauch Innerorts` und `Verbrauch Ausserorts`) sind bei beiden Segmenten negativ korreliert mit dem Baujahr (`Year`), d.h. die Autos sind sparsamer geworden. Bei den sehr teuren Autos ist dieser trend stärker als bei den günstigeren\n",
    "* Bei den günstigeren Autos gibt es eine relativ grosse Korrelation zwischen dem Verbrauch und der Motorenstärke (`Verbrauch Innerorts` und `PS` korrelieren mit 0.53, `Verbrauch Ausserorts` und `PS` mit 0.43), bei den sehr teuren Autos hingegen ist die Korrelation nur sehr klein (0.16 bzw. 0.11). Das könnte daran liegen, dass bei den sehr teuren Autos die Spitzenleistung nur sehr selten auch wirklich benötigt werden, bei günstigeren (und meistens schwächeren Autos) hingegen schon, insbesondere innerorts mit viel stop-and-go Verkehr)\n",
    "\n",
    "**<==**"
   ]
  },
  {
   "cell_type": "markdown",
   "metadata": {},
   "source": [
    "### Scatterplots / Streudiagramm\n",
    "Die Korrelation und die entsprechende Heatmap sind nützliche Hilfsmittel, um die Gesamtheit der Daten darzustellen (man spricht da auch von *summary statistics*). Entsprechend gehen aber einzelne Datenpunkte unter, und Ausreisser können einen grossen Einfluss auf das Ergebnis der Auswertung haben. \n",
    "\n",
    "Bei einem Streudiagramm wählen wir zwei Attribute aus, verwenden die entsprechenden Werte als x- und y-Achsenwert und repräsentieren jedes Objekt mit einem Punkt. So erhalten wir eine sehr detaillierte Darstellung unserer Daten.\n",
    "\n",
    "Als Beispiel zeichen wir als erstes das Verhältnis zwischen `PS` und `Preis`:"
   ]
  },
  {
   "cell_type": "code",
   "execution_count": 43,
   "metadata": {},
   "outputs": [
    {
     "data": {
      "image/png": "[encoded data removed]",
      "text/plain": [
       "<Figure size 720x720 with 1 Axes>"
      ]
     },
     "metadata": {},
     "output_type": "display_data"
    }
   ],
   "source": [
    "fig, ax = plt.subplots(figsize=(10,10))\n",
    "ax.scatter(car_df['PS'], car_df['Preis'])\n",
    "plt.title('Streudiagramm zwischen PS und Preis')\n",
    "ax.set_xlabel('Motorenleistung [PS]')\n",
    "ax.set_ylabel('Preis [US-$]')\n",
    "plt.show()"
   ]
  },
  {
   "cell_type": "markdown",
   "metadata": {},
   "source": [
    "In dieser Darstellung erkennen wir die Ausreiser sehr gut: es gibt drei Autos mit ca. 1000 PS, und zwei weitere Autos mit Verkausfpreis über 1 Mio US$.\n",
    "\n",
    "Wir machen einen zweiten Plot und beschränken uns auf die Autos, weniger als 1 Mio US$ kosten."
   ]
  },
  {
   "cell_type": "code",
   "execution_count": 44,
   "metadata": {},
   "outputs": [
    {
     "data": {
      "image/png": "[encoded data removed]",
      "text/plain": [
       "<Figure size 720x720 with 1 Axes>"
      ]
     },
     "metadata": {},
     "output_type": "display_data"
    }
   ],
   "source": [
    "cars_u1M = car_df[ car_df['Preis']<1000000 ]\n",
    "fig, ax = plt.subplots(figsize=(10,10))\n",
    "ax.scatter(cars_u1M['PS'], cars_u1M['Preis'])\n",
    "plt.title('Streudiagramm zwischen PS und Preis, Autos unter 1 Mio US$')\n",
    "ax.set_xlabel('Motorenleistung [PS]')\n",
    "ax.set_ylabel('Preis [US-$]')\n",
    "plt.show()"
   ]
  },
  {
   "cell_type": "markdown",
   "metadata": {},
   "source": [
    "Wir machen eine weitere Graphik mit allen Autos, deren Preis unter 50\\'000US$ liegt:"
   ]
  },
  {
   "cell_type": "code",
   "execution_count": 45,
   "metadata": {},
   "outputs": [
    {
     "data": {
      "image/png": "[encoded data removed]",
      "text/plain": [
       "<Figure size 720x720 with 1 Axes>"
      ]
     },
     "metadata": {},
     "output_type": "display_data"
    }
   ],
   "source": [
    "cars_u50k = car_df[ car_df['Preis']<50000 ]\n",
    "fig, ax = plt.subplots(figsize=(10,10))\n",
    "ax.scatter(cars_u50k['PS'], cars_u50k['Preis'])\n",
    "plt.title('Streudiagramm zwischen PS und Preis, Autos unter 50\\'000 US$')\n",
    "ax.set_xlabel('Motorenleistung [PS]')\n",
    "ax.set_ylabel('Preis [US-$]')\n",
    "plt.show()"
   ]
  },
  {
   "cell_type": "markdown",
   "metadata": {},
   "source": [
    "Wir beobachten, dass (für Fahrzeute mit einem Preis über 10\\'000US\\\\$) der Preis mit der Motorenleistung steigt. Das deckt sich mit der Beobachtung aus der Korrelationsmatrix - für den Zusammenhang von 'PS' und 'Preis' eine Korrelation von 0.66 berechnet.\n",
    "\n",
    "Wir formulieren also folgende **Hypothese**: Für Fahrzeuge mit einem Preis zwischen 10\\'000 und 50\\'000US\\\\$ hängt der Preis linear von der Motorenleistung (in PS) ab."
   ]
  },
  {
   "cell_type": "markdown",
   "metadata": {},
   "source": [
    "***Frage***: Welche weiteren Zusammenhänge erkennen Sie in den Daten? Spielen Sie mit den Plots herum und erstellen Sie Scatterplots für verschiedene Kombinationen von Attributen der Autos. Sie können sich dabei zum Beispiel von der Korrelationsmatrix inspirieren lassen. Aber auch dort wo die Korrelation um 0 herum liegt, gibt es vielleicht auf einem Teil der Werte Zusammehänge?\n",
    "\n",
    "Identifizieren Sie mindestens zwei weitere Hypothesen für einen Zusammenhang, und reichen sie diese über Ilias ein."
   ]
  },
  {
   "cell_type": "code",
   "execution_count": null,
   "metadata": {},
   "outputs": [],
   "source": []
  }
 ],
 "metadata": {
  "kernelspec": {
   "display_name": "Python 3",
   "language": "python",
   "name": "python3"
  },
  "language_info": {
   "codemirror_mode": {
    "name": "ipython",
    "version": 3
   },
   "file_extension": ".py",
   "mimetype": "text/x-python",
   "name": "python",
   "nbconvert_exporter": "python",
   "pygments_lexer": "ipython3",
   "version": "3.7.7"
  }
 },
 "nbformat": 4,
 "nbformat_minor": 4
}
